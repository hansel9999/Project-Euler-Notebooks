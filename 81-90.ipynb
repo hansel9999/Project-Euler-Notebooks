{
 "cells": [
  {
   "cell_type": "code",
   "execution_count": 1,
   "id": "eddbc7f5-91e2-448a-8a1a-086efbde8e30",
   "metadata": {},
   "outputs": [],
   "source": [
    "import random\n",
    "from math import sqrt, gcd\n",
    "import numpy as np"
   ]
  },
  {
   "cell_type": "markdown",
   "id": "75b6868f-56cd-4282-ad26-0001443fef5a",
   "metadata": {},
   "source": [
    "# 81 - Path Sum: Two Ways"
   ]
  },
  {
   "cell_type": "code",
   "execution_count": 2,
   "id": "97d32800-929e-4e83-87f4-d2e9d0181c35",
   "metadata": {},
   "outputs": [
    {
     "name": "stdout",
     "output_type": "stream",
     "text": [
      "427337\n",
      "CPU times: user 2.5 ms, sys: 285 μs, total: 2.78 ms\n",
      "Wall time: 2.37 ms\n"
     ]
    }
   ],
   "source": [
    "%%time\n",
    "def pe_81():\n",
    "    with open(\"./inputs/0081_matrix.txt\", 'r') as file:\n",
    "        matrix = [[int(x) for x in line.strip().split(',')] for line in file]\n",
    "    m_len = len(matrix)\n",
    "    triangle = [[] for _ in range(2*m_len-1)]\n",
    "    for i in range(m_len):\n",
    "        for j in range(m_len):\n",
    "            triangle[i+j].append(matrix[i][j])\n",
    "    half = len(triangle)//2 +1\n",
    "    for i in range(1, half):\n",
    "        r_len = len(triangle[i])\n",
    "        triangle[i][0] += triangle[i-1][0]\n",
    "        triangle[i][r_len-1] += triangle[i-1][r_len-2]\n",
    "        for j in range(1, r_len-1):\n",
    "            a = triangle[i-1][j]\n",
    "            b = triangle[i-1][j-1]\n",
    "            triangle[i][j] = triangle[i][j] + a if a < b else triangle[i][j] + b\n",
    "    for i in range(half,len(triangle)):\n",
    "        for j in range(0, len(triangle[i])):\n",
    "            a = triangle[i-1][j]\n",
    "            b = triangle[i-1][j+1]\n",
    "            triangle[i][j] = triangle[i][j] + a if a < b else triangle[i][j] + b\n",
    "    print(triangle[-1][0])     \n",
    "pe_81()"
   ]
  },
  {
   "cell_type": "markdown",
   "id": "2c8496e2-6996-4788-b4db-d9031b47cc41",
   "metadata": {},
   "source": [
    "# 82 - Path Sum: Three Ways"
   ]
  },
  {
   "cell_type": "code",
   "execution_count": 3,
   "id": "0bc21fe0-107f-45cb-b968-9a55bb3eb75b",
   "metadata": {},
   "outputs": [
    {
     "name": "stdout",
     "output_type": "stream",
     "text": [
      "260324\n",
      "CPU times: user 627 ms, sys: 7.46 ms, total: 635 ms\n",
      "Wall time: 633 ms\n"
     ]
    }
   ],
   "source": [
    "%%time\n",
    "def pe_82():\n",
    "    with open(\"./inputs/0082_matrix.txt\", 'r') as file:\n",
    "        matrix = [[int(x) for x in line.strip().split(',')] for line in file]\n",
    "    m_len = len(matrix)\n",
    "    dp = [row[:] for row in matrix]\n",
    "    for c in range(1, m_len): \n",
    "        for r in range(m_len):\n",
    "            min_sum = matrix[r][c] + dp[r][c-1]\n",
    "            for i in range(m_len):\n",
    "                c_sum = dp[i][c-1] + matrix[i][c]\n",
    "                j=i\n",
    "                while j != r:\n",
    "                    j = j-1 if j>r else j+1\n",
    "                    c_sum += matrix[j][c]\n",
    "                if c_sum < min_sum: min_sum = c_sum\n",
    "            dp[r][c] = min_sum\n",
    "    print(min([row[-1] for row in dp]))\n",
    "pe_82()"
   ]
  },
  {
   "cell_type": "markdown",
   "id": "5cce5e2f-b9fa-4ca6-aa78-6cca8ad8a9ce",
   "metadata": {},
   "source": [
    "# 83 - Path Sum: Four Ways"
   ]
  },
  {
   "cell_type": "code",
   "execution_count": 4,
   "id": "4d960ec6-a346-46c2-824a-ac0ccfc7fe31",
   "metadata": {},
   "outputs": [],
   "source": [
    "class Node:\n",
    "    def __init__(self, x, y, weight):\n",
    "        self.pos = (x , y)\n",
    "        self.weight = weight\n",
    "    def __repr__(self):\n",
    "        return f\"{self.weight}\""
   ]
  },
  {
   "cell_type": "code",
   "execution_count": 5,
   "id": "cc0c57ba-ec1d-44ba-9fc3-6b6cbf5d394a",
   "metadata": {},
   "outputs": [
    {
     "name": "stdout",
     "output_type": "stream",
     "text": [
      "425185\n",
      "CPU times: user 740 ms, sys: 4.15 ms, total: 744 ms\n",
      "Wall time: 743 ms\n"
     ]
    }
   ],
   "source": [
    "%%time\n",
    "def pe_83():\n",
    "    with open(\"./inputs/0083_matrix.txt\", 'r') as file:\n",
    "        matrix = [[int(x) for x in line.strip().split(',')] for line in file]\n",
    "    m_len = len(matrix)\n",
    "    dp = [[0 for _ in range(m_len)] for _ in range(m_len)]\n",
    "    unvisited = []\n",
    "    for i in range(m_len):\n",
    "        for j in range(m_len):\n",
    "            temp_node = Node(i,j,float('inf'))\n",
    "            dp[i][j] = temp_node\n",
    "            unvisited.append(temp_node)        \n",
    "    curr_node = unvisited[0]\n",
    "    curr_node.weight = matrix[0][0]\n",
    "    while unvisited:\n",
    "        for step in [(0,1) , (0,-1) , (-1,0) , (1,0)]:\n",
    "            x_1 , y_1 = tuple(a + b for a, b in zip(curr_node.pos, step))\n",
    "            if x_1 < 0 or y_1<0 or x_1 > m_len-1 or y_1 > m_len-1: continue\n",
    "            temp_node = dp[x_1][y_1]\n",
    "            new_weight = curr_node.weight + matrix[x_1][y_1]\n",
    "            if new_weight<temp_node.weight:\n",
    "                temp_node.weight = new_weight    \n",
    "        unvisited = unvisited[1:]\n",
    "        unvisited = sorted(unvisited, key = lambda n: n.weight)\n",
    "        if unvisited: curr_node = unvisited[0]\n",
    "    print(dp[m_len-1][m_len-1])\n",
    "pe_83()"
   ]
  },
  {
   "cell_type": "markdown",
   "id": "713ceb94-fa80-41d0-ad36-856996517bea",
   "metadata": {},
   "source": [
    "# 84 - Monopoly Odds"
   ]
  },
  {
   "cell_type": "code",
   "execution_count": 6,
   "id": "651b290a-b688-4a2a-8a32-ae3e9e9cb47b",
   "metadata": {},
   "outputs": [
    {
     "name": "stdout",
     "output_type": "stream",
     "text": [
      "101524\n",
      "CPU times: user 624 ms, sys: 73 μs, total: 624 ms\n",
      "Wall time: 624 ms\n"
     ]
    }
   ],
   "source": [
    "%%time\n",
    "def pe_84():\n",
    "    landed_dict = {i:0 for i in range(40)}\n",
    "    cc_dict = { 0:0 , 1:10 }\n",
    "    ch_dict = { 0:0 , 1:10 , 2:11 , 3:24 , 4:39 , 5:5 }\n",
    "    ch_r_dict = {7:15 , 22:25 , 36:5 }\n",
    "    ch_u_dict = {7:12 , 22:28 , 36:12}\n",
    "    player_pos=0\n",
    "    doubles=0\n",
    "    cc=0\n",
    "    ch=0\n",
    "    for _ in range(10**6):\n",
    "        die_roll_1 = random.randint(1, 4)\n",
    "        die_roll_2 = random.randint(1, 4)\n",
    "        if die_roll_1 == die_roll_2:\n",
    "            doubles = (doubles + 1) % 3\n",
    "            if not doubles:\n",
    "                player_pos = 10\n",
    "                landed_dict[player_pos] += 1\n",
    "                continue\n",
    "        else:\n",
    "            doubles = 0\n",
    "        player_pos = (player_pos + die_roll_1 + die_roll_2)%40\n",
    "        if player_pos == 30:\n",
    "            player_pos = 10\n",
    "        if player_pos in [7, 22, 36]:\n",
    "            if ch in ch_dict:\n",
    "                player_pos = ch_dict[ch]\n",
    "            elif ch in [6,7]:\n",
    "                player_pos = ch_r_dict[player_pos]\n",
    "            elif ch == 8:\n",
    "                player_pos = ch_u_dict[player_pos]\n",
    "            elif ch == 9:\n",
    "                player_pos = player_pos - 3\n",
    "            ch = (ch+1)%16\n",
    "        if player_pos in [2, 17, 33]:\n",
    "            if cc in cc_dict: player_pos = cc_dict[cc]\n",
    "            cc = (cc + 1)%16\n",
    "        landed_dict[player_pos] += 1\n",
    "    modal_string = \"\"\n",
    "    top_squares = [(k,v) for k, v in sorted(landed_dict.items(), key=lambda item: item[1], reverse=True)[:3]]\n",
    "    for val in top_squares:\n",
    "        #print(f\"{val[0]}: {val[1]}\")\n",
    "        modal_string += str(val[0])\n",
    "    print(modal_string)\n",
    "pe_84()"
   ]
  },
  {
   "cell_type": "markdown",
   "id": "ffc51e7c-c935-4e00-bfd7-9c56b056b688",
   "metadata": {},
   "source": [
    "# 85 - Counting Rectangles"
   ]
  },
  {
   "cell_type": "code",
   "execution_count": 7,
   "id": "66b5b39f-9d71-486a-a682-22154ac7e65c",
   "metadata": {},
   "outputs": [],
   "source": [
    "def count_rectangles(n, m):\n",
    "    total = 0\n",
    "    for i in range(1,n+1):\n",
    "        for j in range(1,m+1):\n",
    "            total += (n-i+1)*(m-j+1)\n",
    "    return total"
   ]
  },
  {
   "cell_type": "code",
   "execution_count": 8,
   "id": "8afcf0cb-0cb2-457c-93c5-5ebb02fdb2da",
   "metadata": {},
   "outputs": [
    {
     "name": "stdout",
     "output_type": "stream",
     "text": [
      "2772\n",
      "CPU times: user 960 ms, sys: 496 μs, total: 961 ms\n",
      "Wall time: 959 ms\n"
     ]
    }
   ],
   "source": [
    "%%time\n",
    "def pe_85():\n",
    "    min_dist = (0, float('inf'))\n",
    "    for n in range(100):\n",
    "        for m in range(100):\n",
    "            count = count_rectangles(n,m)\n",
    "            dist = abs((2*(10**6)) - count)\n",
    "            if dist < min_dist[1]: min_dist = (n*m, dist)\n",
    "    print(min_dist[0])\n",
    "pe_85()"
   ]
  },
  {
   "cell_type": "markdown",
   "id": "047e4b3a-df6b-4839-8e1b-de163c80be48",
   "metadata": {},
   "source": [
    "# 86 - Cuboid Route"
   ]
  },
  {
   "cell_type": "code",
   "execution_count": 9,
   "id": "cc933be0-0602-4ecb-a073-11a928ced8e5",
   "metadata": {},
   "outputs": [],
   "source": [
    "def combinations(a, b_c):\n",
    "    if 2*a < b_c: return 0\n",
    "    if a >= b_c: return b_c // 2\n",
    "    return a - (b_c - 1)//2"
   ]
  },
  {
   "cell_type": "code",
   "execution_count": 10,
   "id": "cfb61889-dc4a-4f5c-aa9e-9200c0289456",
   "metadata": {},
   "outputs": [
    {
     "name": "stdout",
     "output_type": "stream",
     "text": [
      "1818\n",
      "CPU times: user 4.03 s, sys: 56 ms, total: 4.08 s\n",
      "Wall time: 4.08 s\n"
     ]
    }
   ],
   "source": [
    "%%time\n",
    "def pe_86():\n",
    "    limit = 10**6\n",
    "    m_limit = int(sqrt(2*limit))\n",
    "    combinations_dict = {i:0 for i in range(2*limit)}\n",
    "    for i in range(1,m_limit):\n",
    "        for j in range(i+1,m_limit):\n",
    "            if not (i%2 ^ j%2) or gcd(i,j)!=1: continue\n",
    "            x = int(j**2 - i**2)\n",
    "            y = int(2*i*j)\n",
    "            for k in range(1, limit):\n",
    "                if k*x > limit: break\n",
    "                combinations_dict[k*x] += combinations(k*x, k*y)\n",
    "            for k in range(1, limit):\n",
    "                if k*y > limit: break\n",
    "                combinations_dict[k*y] += combinations(k*y, k*x)\n",
    "    total = 0\n",
    "    for k, v in combinations_dict.items():\n",
    "        total += v\n",
    "        if total > limit:\n",
    "            print(k)\n",
    "            return\n",
    "pe_86()"
   ]
  },
  {
   "cell_type": "markdown",
   "id": "7bed2c61-70b4-4d15-95ef-149aff864474",
   "metadata": {},
   "source": [
    "# 87 - Prime Power Triples"
   ]
  },
  {
   "cell_type": "code",
   "execution_count": 11,
   "id": "ec6cc56d-72c2-4cdb-86e8-0d8b005c1aae",
   "metadata": {},
   "outputs": [],
   "source": [
    "def prime_array(size):\n",
    "    prime_array = np.ones(size, np.bool_)\n",
    "    prime_array[0] = False\n",
    "    prime_array[1] = False\n",
    "    sqrt_size = int(sqrt(size)) + 1\n",
    "    for i in range(2,sqrt_size):\n",
    "        if prime_array[i]:\n",
    "            prime_array[i*i:size:i] = False\n",
    "    return prime_array"
   ]
  },
  {
   "cell_type": "code",
   "execution_count": 12,
   "id": "95c94c01-d98e-473b-9d28-577e66cdeebe",
   "metadata": {
    "scrolled": true
   },
   "outputs": [
    {
     "name": "stdout",
     "output_type": "stream",
     "text": [
      "1097343\n",
      "CPU times: user 355 ms, sys: 24 ms, total: 379 ms\n",
      "Wall time: 377 ms\n"
     ]
    }
   ],
   "source": [
    "%%time\n",
    "def pe_87():\n",
    "    limit = 50 * 10**6\n",
    "    primes = prime_array(limit)\n",
    "    fourths = [i**4 for i in range(2, int(sqrt(sqrt(limit))) + 1) if primes[i]]\n",
    "    cubes = [i**3 for i in range(2, int(sqrt(limit)) + 1) if i**3 < limit and primes[i]]\n",
    "    squares = [i**2 for i in range(2, int(sqrt(limit)) + 1) if primes[i]]\n",
    "    nums = set()\n",
    "    for f in fourths:\n",
    "        for c in cubes:\n",
    "            if f+c > limit: break\n",
    "            for s in squares:\n",
    "                sum_n = f + c + s\n",
    "                if sum_n > limit: break\n",
    "                nums.add(sum_n)\n",
    "    print(len(nums))\n",
    "pe_87()"
   ]
  },
  {
   "cell_type": "markdown",
   "id": "ef839400-6f10-4968-9ab8-d8304ff4b83e",
   "metadata": {},
   "source": [
    "# 88 - Product-sum Numbers"
   ]
  },
  {
   "cell_type": "code",
   "execution_count": 13,
   "id": "06b9817b-0527-416f-9199-f821341a3e94",
   "metadata": {},
   "outputs": [],
   "source": [
    "def factors(l_f, p_d, s_m, l_n, limit, data):\n",
    "    if p_d > 2*limit: return\n",
    "    if l_n != 1:\n",
    "        k = p_d - s_m + l_n\n",
    "        if k > limit: return\n",
    "        if p_d < data[k]: data[k] = p_d\n",
    "    for q in range(l_f, (2*limit)//p_d +1): factors(q, p_d*q, s_m+q, l_n+1, limit, data)"
   ]
  },
  {
   "cell_type": "code",
   "execution_count": 14,
   "id": "05ced2ab-5fb2-4b35-8ec3-d016c73c4e61",
   "metadata": {},
   "outputs": [
    {
     "name": "stdout",
     "output_type": "stream",
     "text": [
      "7587457\n",
      "CPU times: user 95 ms, sys: 3.97 ms, total: 99 ms\n",
      "Wall time: 97.1 ms\n"
     ]
    }
   ],
   "source": [
    "%%time\n",
    "def pe_88():\n",
    "    limit = 12000\n",
    "    data = {i:float('inf') for i in range(2, limit+1)}\n",
    "    for i in range(2, limit+1): factors(i, i, i, 1, limit, data)\n",
    "    print(sum(set(list(data.values()))))\n",
    "pe_88()"
   ]
  },
  {
   "cell_type": "markdown",
   "id": "a20c6318-c6ec-4550-830a-e8127202960c",
   "metadata": {},
   "source": [
    "# 89 - Roman Numerals"
   ]
  },
  {
   "cell_type": "code",
   "execution_count": 15,
   "id": "6d08b0e5-a179-4715-af02-e3b019b7f677",
   "metadata": {},
   "outputs": [
    {
     "name": "stdout",
     "output_type": "stream",
     "text": [
      "743\n",
      "CPU times: user 2.24 ms, sys: 0 ns, total: 2.24 ms\n",
      "Wall time: 2.27 ms\n"
     ]
    }
   ],
   "source": [
    "%%time\n",
    "def pe_89():\n",
    "    num_to_int = {\n",
    "        'I': 1,\n",
    "        'V': 5,\n",
    "        'X': 10,\n",
    "        'L': 50,\n",
    "        'C': 100,\n",
    "        'D': 500,\n",
    "        'M': 1000\n",
    "    }\n",
    "    int_to_num = {v:k for k,v in num_to_int.items()}\n",
    "    with open(\"./inputs/0089_roman.txt\", 'r') as f:\n",
    "        numbers = [[c for c in line.strip()] for line in f]\n",
    "    chars_saved = 0\n",
    "    for num in numbers:\n",
    "        start_len = len(num)\n",
    "        total = 0\n",
    "        while num:\n",
    "            c = num.pop()\n",
    "            prev = num[-1] if num else None\n",
    "            if (prev == 'I' and c in ['V', 'X']) or (prev == 'X' and c in ['L', 'C']) or (prev == 'C' and c in ['D', 'M']):\n",
    "                total += num_to_int[c] - num_to_int[prev]\n",
    "                num.pop()\n",
    "            else:\n",
    "                total += num_to_int[c]\n",
    "        min_str = \"\"\n",
    "        thousands = total // 1000 \n",
    "        total = total % 1000\n",
    "        for _ in range(thousands): min_str += 'M'\n",
    "        for place in [100, 10, 1]:\n",
    "            place_value = total // place\n",
    "            total = total % place\n",
    "            if 0 <= place_value <= 3:\n",
    "                for _ in range(place_value): min_str += int_to_num[place]\n",
    "            elif place_value == 4:\n",
    "                min_str += int_to_num[place]\n",
    "                min_str += int_to_num[place*5]\n",
    "            elif 5 <= place_value <= 8:\n",
    "                min_str += int_to_num[place*5]\n",
    "                for _ in range(place_value - 5): min_str += int_to_num[place]\n",
    "            else:\n",
    "                min_str += int_to_num[place]\n",
    "                min_str += int_to_num[place*10]\n",
    "        chars_saved += start_len - len(min_str)\n",
    "    print(chars_saved)\n",
    "pe_89()"
   ]
  },
  {
   "cell_type": "markdown",
   "id": "8e96013b-b36d-4717-8d9b-59d5facf64a2",
   "metadata": {},
   "source": [
    "# 90 - Cube Digit Pairs"
   ]
  },
  {
   "cell_type": "code",
   "execution_count": 16,
   "id": "592672e4-3149-45f6-8402-9f36693e59c9",
   "metadata": {},
   "outputs": [],
   "source": [
    "def cube(digits, digits_list):\n",
    "    if len(digits) == 6:\n",
    "        digits_list.append(digits)\n",
    "        return\n",
    "    for q in range(digits[-1]+1, 10):cube(digits + [q], digits_list)"
   ]
  },
  {
   "cell_type": "code",
   "execution_count": 17,
   "id": "27e8a0b2-cc51-401d-8e51-d86490fcb77c",
   "metadata": {},
   "outputs": [],
   "source": [
    "def valid_pair(digits_1, digits_2):\n",
    "    squares = [[0,1], [0,4], [0,6], [1,6], [2,5], [3,6], [4,6], [6,4], [8,1]]\n",
    "    for square in squares:\n",
    "        num_1 = square[0]\n",
    "        num_2 = square[1]\n",
    "        if num_1 != 6 and num_2 != 6:\n",
    "            if not ((num_1 in digits_1 and num_2 in digits_2) or (num_1 in digits_2 and num_2 in digits_1)):\n",
    "                return False\n",
    "        elif num_1 == 6:\n",
    "            if not (((6 in digits_1 or 9 in digits_1) and num_2 in digits_2) or ((6 in digits_2 or 9 in digits_2) and num_2 in digits_1)):\n",
    "                return False\n",
    "        elif num_2 == 6:\n",
    "            if not ((num_1 in digits_1 and (6 in digits_2 or 9 in digits_2)) or (num_1 in digits_2 and (6 in digits_1 or 9 in digits_1))):\n",
    "                return False\n",
    "    return True"
   ]
  },
  {
   "cell_type": "code",
   "execution_count": 18,
   "id": "aa99afbd-b98a-46f5-bb0a-cab000864b03",
   "metadata": {},
   "outputs": [
    {
     "name": "stdout",
     "output_type": "stream",
     "text": [
      "1217\n",
      "CPU times: user 35.8 ms, sys: 4.11 ms, total: 39.9 ms\n",
      "Wall time: 38.7 ms\n"
     ]
    }
   ],
   "source": [
    "%%time\n",
    "def pe_90():\n",
    "    digits_list = []\n",
    "    total = 0\n",
    "    for i in range(10):cube([i], digits_list)\n",
    "    for i,digits_1 in enumerate(digits_list):\n",
    "        for digits_2 in digits_list[i:]:\n",
    "            if valid_pair(digits_1, digits_2):\n",
    "                total += 1\n",
    "    print(total)\n",
    "pe_90()"
   ]
  }
 ],
 "metadata": {
  "kernelspec": {
   "display_name": "Python 3 (ipykernel)",
   "language": "python",
   "name": "python3"
  },
  "language_info": {
   "codemirror_mode": {
    "name": "ipython",
    "version": 3
   },
   "file_extension": ".py",
   "mimetype": "text/x-python",
   "name": "python",
   "nbconvert_exporter": "python",
   "pygments_lexer": "ipython3",
   "version": "3.12.8"
  }
 },
 "nbformat": 4,
 "nbformat_minor": 5
}
