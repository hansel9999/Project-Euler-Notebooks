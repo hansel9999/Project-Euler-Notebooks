{
 "cells": [
  {
   "cell_type": "code",
   "execution_count": 1,
   "id": "d3f8b145-09c9-4ad1-914d-26236918cdba",
   "metadata": {},
   "outputs": [],
   "source": [
    "import numpy as np\n",
    "import os\n",
    "import random\n",
    "from fractions import Fraction\n",
    "from itertools import permutations"
   ]
  },
  {
   "cell_type": "markdown",
   "id": "71d41994-0727-4079-9cf0-42703e78f3a2",
   "metadata": {},
   "source": [
    "# 61 - Cyclical Figurate Numbers"
   ]
  },
  {
   "cell_type": "code",
   "execution_count": 2,
   "id": "a8041cbc-edb7-404f-8ab8-d21a2c40ede0",
   "metadata": {},
   "outputs": [],
   "source": [
    "def recursive_search(cycle, series):\n",
    "    if not series and str(cycle[-1])[-2:] == str(cycle[0])[:2]:\n",
    "        print(f\"{cycle}\\n{sum(cycle)}\")\n",
    "    for i,num_list in enumerate(series):\n",
    "        for num in num_list:\n",
    "            if str(cycle[-1])[-2:] == str(num)[:2]:\n",
    "                recursive_search(cycle+[num], series[:i] + series[i+1:])"
   ]
  },
  {
   "cell_type": "code",
   "execution_count": 3,
   "id": "79ca6ca8-d962-4396-b455-b5cc6c3cef40",
   "metadata": {},
   "outputs": [
    {
     "name": "stdout",
     "output_type": "stream",
     "text": [
      "[1281, 8128, 2882, 8256, 5625, 2512]\n",
      "28684\n",
      "CPU times: user 82.8 ms, sys: 0 ns, total: 82.8 ms\n",
      "Wall time: 81.6 ms\n"
     ]
    }
   ],
   "source": [
    "%%time\n",
    "def pe_61():\n",
    "    cycle_length = 6\n",
    "    funcs =  [\n",
    "        lambda n: int((n*(n + 1))/2),\n",
    "        lambda n: int(n**2),\n",
    "        lambda n: int((n*(3*n - 1))/2),\n",
    "        lambda n: int((n*(2*n - 1))),\n",
    "        lambda n: int((n*(5*n - 3))/2),\n",
    "        lambda n: int((n*(3*n - 2)))\n",
    "    ]\n",
    "    series = [[funcs[i](n) for n in range(1, 10**4) if len(str(funcs[i](n))) == 4 ] for i in range(cycle_length)]\n",
    "    for n in series[-1]: recursive_search([n], series[:-1])\n",
    "pe_61()"
   ]
  },
  {
   "cell_type": "markdown",
   "id": "252c298e-227f-49d6-afdc-1eb85b0d68a5",
   "metadata": {},
   "source": [
    "# 62 - Cubic Permutations"
   ]
  },
  {
   "cell_type": "code",
   "execution_count": 4,
   "id": "0d234c82-2745-4853-be85-0f74ca7a6cc3",
   "metadata": {},
   "outputs": [
    {
     "name": "stdout",
     "output_type": "stream",
     "text": [
      "127035954683\n",
      "CPU times: user 37.7 ms, sys: 120 μs, total: 37.8 ms\n",
      "Wall time: 37.2 ms\n"
     ]
    }
   ],
   "source": [
    "%%time\n",
    "def pe_62():\n",
    "    n=1\n",
    "    digit_dict = {}\n",
    "    while(True):\n",
    "        digits = str(sorted([int(c) for c in str(n**3)]))\n",
    "        if not digits in digit_dict:\n",
    "            digit_dict[digits] = [n**3]\n",
    "        else:\n",
    "            digit_dict[digits].append(n**3)\n",
    "        if len(digit_dict[digits]) == 5:\n",
    "            print(digit_dict[digits][0])\n",
    "            return\n",
    "        n+=1\n",
    "pe_62()"
   ]
  },
  {
   "cell_type": "markdown",
   "id": "5b2b92d0-be94-4471-8cfd-8540e95ab93e",
   "metadata": {},
   "source": [
    "# 63 - Powerful Digit Counts"
   ]
  },
  {
   "cell_type": "code",
   "execution_count": 5,
   "id": "23d3ae4b-0dfa-4731-8848-ad591aa25eb8",
   "metadata": {},
   "outputs": [
    {
     "name": "stdout",
     "output_type": "stream",
     "text": [
      "49\n",
      "CPU times: user 0 ns, sys: 186 μs, total: 186 μs\n",
      "Wall time: 194 μs\n"
     ]
    }
   ],
   "source": [
    "%%time\n",
    "def pe_63():\n",
    "    count = 0\n",
    "    for n in range(1,22): \n",
    "        for x in range(1,10):\n",
    "            if len(str(x**n)) == n:\n",
    "                count += 1\n",
    "    print(count)\n",
    "pe_63()"
   ]
  },
  {
   "cell_type": "markdown",
   "id": "c8809d51-1b18-4fd5-9298-876ebfc863a8",
   "metadata": {},
   "source": [
    "# 64 - Odd Period Square Roots"
   ]
  },
  {
   "cell_type": "code",
   "execution_count": 6,
   "id": "5b1de472-2697-49c0-94c3-6ec1eb7a5763",
   "metadata": {},
   "outputs": [
    {
     "name": "stdout",
     "output_type": "stream",
     "text": [
      "1322\n",
      "CPU times: user 648 ms, sys: 4 ms, total: 652 ms\n",
      "Wall time: 650 ms\n"
     ]
    }
   ],
   "source": [
    "%%time\n",
    "def pe_64():\n",
    "    odd_periods = 0\n",
    "    for n in range(2, 10**4 + 1):\n",
    "        d1 = np.floor(np.sqrt(n))\n",
    "        if d1**2  == n: continue\n",
    "        vals = []\n",
    "        n1 = 1\n",
    "        while((n1, d1) not in vals):        \n",
    "            vals.append((n1, d1))\n",
    "            d2 = n1 = (n-(d1**2)) / n1\n",
    "            d1 = abs(d1 - (d2 * np.floor((np.sqrt(n)+ d1)/d2)))\n",
    "        if len(vals)%2: odd_periods +=1   \n",
    "    print(odd_periods)       \n",
    "pe_64()"
   ]
  },
  {
   "cell_type": "markdown",
   "id": "cf2c8390-0d6e-4347-8f3c-559f865037da",
   "metadata": {},
   "source": [
    "# 65 - Convergents of e"
   ]
  },
  {
   "cell_type": "code",
   "execution_count": 7,
   "id": "4341d5e7-cf24-43c2-9be4-cc7df44ceb6d",
   "metadata": {},
   "outputs": [
    {
     "name": "stdout",
     "output_type": "stream",
     "text": [
      "272\n",
      "CPU times: user 230 μs, sys: 15 μs, total: 245 μs\n",
      "Wall time: 252 μs\n"
     ]
    }
   ],
   "source": [
    "%%time\n",
    "def pe_65():\n",
    "    sequence = [2, 1, 2]\n",
    "    for k in range(2, 36):\n",
    "        sequence.extend([1, 1, 2*k])\n",
    "    n =99\n",
    "    frac = Fraction(sequence[n], 1)\n",
    "    for i in range(n-1, -1, -1):\n",
    "        frac = 1/frac\n",
    "        frac = frac + sequence[i]\n",
    "    print(sum([int(c) for c in str(frac.numerator)]))\n",
    "pe_65()"
   ]
  },
  {
   "cell_type": "markdown",
   "id": "36f5dd74-8939-4c7e-8aa3-350d447c814d",
   "metadata": {},
   "source": [
    "# 66 - Diophantine Equation"
   ]
  },
  {
   "cell_type": "code",
   "execution_count": 8,
   "id": "fee73576-80e3-4a3a-84a9-d0cd74e49648",
   "metadata": {},
   "outputs": [
    {
     "name": "stdout",
     "output_type": "stream",
     "text": [
      "649\n",
      "CPU times: user 473 μs, sys: 32 μs, total: 505 μs\n",
      "Wall time: 513 μs\n"
     ]
    }
   ],
   "source": [
    "%%time\n",
    "def pe_66_brute():\n",
    "    max_x = 1\n",
    "    for D in range(2, 14):\n",
    "        if np.floor(np.sqrt(D))**2 == D: continue\n",
    "        x = 1\n",
    "        while True:\n",
    "            x+=1\n",
    "            if np.sqrt((1-(x**2))/(-1 * D)).is_integer(): break\n",
    "        if x > max_x: max_x = x\n",
    "    print(max_x)\n",
    "pe_66_brute()"
   ]
  },
  {
   "cell_type": "code",
   "execution_count": 9,
   "id": "5e8899fe-7151-4499-9992-3ec8625f0b69",
   "metadata": {},
   "outputs": [],
   "source": [
    "def convergent(sequence):\n",
    "    n = len(sequence)-1\n",
    "    frac = Fraction(sequence[n], 1)\n",
    "    for i in range(n-1, -1, -1):\n",
    "        frac = 1/frac\n",
    "        frac = frac + sequence[i]\n",
    "    return frac"
   ]
  },
  {
   "cell_type": "code",
   "execution_count": 10,
   "id": "0a07ec04-3f9d-49c0-b55d-96754453e2b6",
   "metadata": {},
   "outputs": [
    {
     "name": "stdout",
     "output_type": "stream",
     "text": [
      "661\n",
      "CPU times: user 281 ms, sys: 3.85 ms, total: 284 ms\n",
      "Wall time: 285 ms\n"
     ]
    }
   ],
   "source": [
    "%%time\n",
    "def pe_66():\n",
    "    max_x = (0, 0)\n",
    "    for D in range(2,1001):\n",
    "        d1 = np.floor(np.sqrt(D))\n",
    "        if d1**2  == D: continue\n",
    "        vals = [int(d1)]\n",
    "        n1 = 1\n",
    "        while(True):        \n",
    "            d2 = n1 = (D-(d1**2)) / n1\n",
    "            an = np.floor((np.sqrt(D)+ d1)/d2)\n",
    "            vals.append(int(an))\n",
    "            d1 = abs(d1 - (d2 * an))\n",
    "            con = convergent(vals)\n",
    "            x = con.numerator\n",
    "            y = con.denominator\n",
    "            if (x**2) - (D*(y**2)) == 1:\n",
    "                if x > max_x[0]:\n",
    "                    max_x = (x, D)\n",
    "                break\n",
    "    print(max_x[1])\n",
    "pe_66()"
   ]
  },
  {
   "cell_type": "markdown",
   "id": "9d3e78a4-6aa4-47c6-94b0-9018cad00c94",
   "metadata": {},
   "source": [
    "# 67 - Maximum Path Sum II"
   ]
  },
  {
   "cell_type": "code",
   "execution_count": 11,
   "id": "a8bbb163-fb4f-4d40-b193-614c3cde27d9",
   "metadata": {},
   "outputs": [
    {
     "name": "stdout",
     "output_type": "stream",
     "text": [
      "CPU times: user 25 μs, sys: 2 μs, total: 27 μs\n",
      "Wall time: 29.6 μs\n"
     ]
    }
   ],
   "source": [
    "%%time\n",
    "def pe_67():\n",
    "    path = \"./input/0067_triangle.txt\"\n",
    "    if os.path.exists(path):\n",
    "        with open(path, 'r') as file:\n",
    "            rows = [[int(x) for x in line.strip().split(' ')] for line in file]\n",
    "        for i in range(1, len(rows)):\n",
    "            r_len = len(rows[i])\n",
    "            rows[i][0] += rows[i-1][0]\n",
    "            rows[i][r_len-1] += rows[i-1][r_len-2]\n",
    "            for j in range(1, r_len-1):\n",
    "                a = rows[i-1][j]\n",
    "                b = rows[i-1][j-1]\n",
    "                rows[i][j] = rows[i][j] + a if a > b else rows[i][j] + b\n",
    "        print(max(rows[-1]))\n",
    "pe_67()"
   ]
  },
  {
   "cell_type": "markdown",
   "id": "5dd2f6c6-f272-467d-b968-f73dcee278d1",
   "metadata": {},
   "source": [
    "# 68 - Magic 5-gon Ring"
   ]
  },
  {
   "cell_type": "code",
   "execution_count": 12,
   "id": "6e73a9c2-e65d-4d3c-8532-34e525bb918f",
   "metadata": {},
   "outputs": [
    {
     "name": "stdout",
     "output_type": "stream",
     "text": [
      "6531031914842725\n",
      "CPU times: user 8.93 s, sys: 4 ms, total: 8.94 s\n",
      "Wall time: 8.94 s\n"
     ]
    }
   ],
   "source": [
    "%%time\n",
    "def pe_68(n):\n",
    "    n_2 = int(n/2)\n",
    "    max_val = 0\n",
    "    for p in permutations(range(1,n+1)):\n",
    "        p = list(p)\n",
    "        inner_ring = p[:n_2]\n",
    "        if 10 in inner_ring: continue\n",
    "        outer_ring = p[n_2:]\n",
    "        triplets = [[num, inner_ring[(i+1)%n_2], inner_ring[(i+2)%n_2]] for i,num in enumerate(outer_ring)]\n",
    "        if len(np.unique([sum(triplet) for triplet in triplets])) == 1:\n",
    "            min_index = min(range(len(triplets)), key=lambda i: triplets[i][0])\n",
    "            triplets = triplets[min_index:] + triplets[:min_index]\n",
    "            num = int(''.join([''.join([str(k) for k in triplet]) for triplet in triplets]))\n",
    "            if num > max_val: max_val = num\n",
    "    print(max_val)\n",
    "pe_68(10)"
   ]
  },
  {
   "cell_type": "markdown",
   "id": "bbf9ee61-64b0-4e71-92b1-23887d2dfcc5",
   "metadata": {},
   "source": [
    "# 69 - Totient Maximum"
   ]
  },
  {
   "cell_type": "code",
   "execution_count": 13,
   "id": "4bc0fd03-d9b5-4c38-8375-41a714713030",
   "metadata": {},
   "outputs": [],
   "source": [
    "def totient(pf_array, n):\n",
    "    totient = n-1\n",
    "    for i in range(2, n):\n",
    "        if any(num in pf_array[n] for num in pf_array[i]):\n",
    "            totient -= 1\n",
    "    return totient"
   ]
  },
  {
   "cell_type": "code",
   "execution_count": 14,
   "id": "1ebfeec1-6363-4b39-b830-f01c6e45664d",
   "metadata": {
    "scrolled": true
   },
   "outputs": [
    {
     "name": "stdout",
     "output_type": "stream",
     "text": [
      "510510\n",
      "CPU times: user 2.81 s, sys: 40 ms, total: 2.85 s\n",
      "Wall time: 2.85 s\n"
     ]
    }
   ],
   "source": [
    "%%time\n",
    "def pe_69():\n",
    "    size = 10**6\n",
    "    max_vals = (0, 0)\n",
    "    pf_array = [[] for n in range(size)]\n",
    "    for i in range(2, size):\n",
    "        if len(pf_array[i]) == 0:\n",
    "            for j in range(i, size, i):\n",
    "                pf_array[j].append(i)\n",
    "    for i in range(size-1,1,-1):\n",
    "        if len(pf_array[i]) > 6:\n",
    "            target = i / totient(pf_array, i)\n",
    "            if target > max_vals[0]: max_vals = (target, i)\n",
    "    print(max_vals[1])\n",
    "pe_69()"
   ]
  },
  {
   "cell_type": "markdown",
   "id": "79dc954a-0a1a-416b-9687-4ba9adbb0099",
   "metadata": {},
   "source": [
    "# 70 - Totient Permutation"
   ]
  },
  {
   "cell_type": "code",
   "execution_count": 15,
   "id": "1704abbe-363e-4671-bf7a-118de919a1af",
   "metadata": {},
   "outputs": [],
   "source": [
    "def is_perm(a, b):\n",
    "    a_digits = sorted([int(c) for c in str(a)])\n",
    "    b_digits = sorted([int(c) for c in str(b)])\n",
    "    if len(a_digits) != len(b_digits): return False\n",
    "    if not all(a_digits[i] == b_digits[i] for i in range(len(a_digits))): return False\n",
    "    return True"
   ]
  },
  {
   "cell_type": "code",
   "execution_count": 16,
   "id": "b78e89fb-c318-45d2-923f-cf6a7617a018",
   "metadata": {},
   "outputs": [
    {
     "name": "stdout",
     "output_type": "stream",
     "text": [
      "8319823\n",
      "CPU times: user 6.71 s, sys: 136 ms, total: 6.85 s\n",
      "Wall time: 6.84 s\n"
     ]
    }
   ],
   "source": [
    "%%time\n",
    "def pe_70():\n",
    "    n = 10**7\n",
    "    t_array = [0 for _ in range(n)]\n",
    "    min_vals = (6, 0)\n",
    "    for i in range(2, n):\n",
    "        if not t_array[i]:\n",
    "            for j in range(i*2, n, i):\n",
    "                if not t_array[j]:\n",
    "                    t_array[j] = int(j * (1-(1/i)) )\n",
    "                else:\n",
    "                    t_array[j] = int(t_array[j] * (1-(1/i)) )\n",
    "        else:\n",
    "            target = i / t_array[i]\n",
    "            if target >= min_vals[0]: continue\n",
    "            if is_perm(i, t_array[i]): min_vals = (target, i)\n",
    "    print(min_vals[1])\n",
    "pe_70()"
   ]
  }
 ],
 "metadata": {
  "kernelspec": {
   "display_name": "Python 3 (ipykernel)",
   "language": "python",
   "name": "python3"
  },
  "language_info": {
   "codemirror_mode": {
    "name": "ipython",
    "version": 3
   },
   "file_extension": ".py",
   "mimetype": "text/x-python",
   "name": "python",
   "nbconvert_exporter": "python",
   "pygments_lexer": "ipython3",
   "version": "3.12.8"
  }
 },
 "nbformat": 4,
 "nbformat_minor": 5
}
