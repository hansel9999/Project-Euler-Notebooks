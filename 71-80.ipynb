{
 "cells": [
  {
   "cell_type": "code",
   "execution_count": 1,
   "id": "ce1dfc7e-66fd-42fe-845b-2299f26641ec",
   "metadata": {},
   "outputs": [],
   "source": [
    "from math import gcd, factorial, sqrt\n",
    "from decimal import Decimal, getcontext"
   ]
  },
  {
   "cell_type": "markdown",
   "id": "c3b3645b-4c0b-4961-8d41-0de3a56f8de8",
   "metadata": {},
   "source": [
    "# 71 - Ordered Fractions"
   ]
  },
  {
   "cell_type": "code",
   "execution_count": 2,
   "id": "03965b9d-3f12-4b98-a47d-27f3873cca4e",
   "metadata": {
    "scrolled": true
   },
   "outputs": [
    {
     "name": "stdout",
     "output_type": "stream",
     "text": [
      "428570\n",
      "CPU times: user 705 ms, sys: 1.86 ms, total: 707 ms\n",
      "Wall time: 705 ms\n"
     ]
    }
   ],
   "source": [
    "%%time\n",
    "def pe_71():\n",
    "    max_val = (1/7, 0, 0)\n",
    "    limit = 3/7\n",
    "    u_bound = 10**6\n",
    "    for d in range(u_bound, u_bound-100, -1):\n",
    "        l_index = int((2*d)//7)\n",
    "        r_index = int((3*d)//7)\n",
    "        for n in range(l_index, r_index):\n",
    "            if n==d: continue\n",
    "            val = n/d\n",
    "            if val < limit and val > max_val[0]:\n",
    "                max_val = (val, n, d)\n",
    "    print(max_val[1])\n",
    "pe_71()"
   ]
  },
  {
   "cell_type": "markdown",
   "id": "4e5a6ff2-abc4-4ea7-af43-892c489936eb",
   "metadata": {},
   "source": [
    "# 72 - Counting Fractions"
   ]
  },
  {
   "cell_type": "code",
   "execution_count": 3,
   "id": "b94aaf16-93d6-422d-b457-19572fba8aa1",
   "metadata": {},
   "outputs": [
    {
     "name": "stdout",
     "output_type": "stream",
     "text": [
      "303963552391\n",
      "CPU times: user 540 ms, sys: 7.72 ms, total: 548 ms\n",
      "Wall time: 547 ms\n"
     ]
    }
   ],
   "source": [
    "%%time\n",
    "def pe_72():\n",
    "    n = 10**6+1\n",
    "    t_array = [0 for _ in range(n)]\n",
    "    total_fracs = 0\n",
    "    for i in range(2, n):\n",
    "        if not t_array[i]:\n",
    "            for j in range(i*2, n, i):\n",
    "                if not t_array[j]:\n",
    "                    t_array[j] = int(j * (1-(1/i)) )\n",
    "                else:\n",
    "                    t_array[j] = int(t_array[j] * (1-(1/i)) )\n",
    "            total_fracs+= i-1\n",
    "        else:\n",
    "            total_fracs += t_array[i]\n",
    "    print(total_fracs)\n",
    "pe_72()"
   ]
  },
  {
   "cell_type": "markdown",
   "id": "a2b7ac3d-a2ea-4fae-b056-a2452b2105b7",
   "metadata": {},
   "source": [
    "# 73 - Counting Fractions in a Range"
   ]
  },
  {
   "cell_type": "code",
   "execution_count": 4,
   "id": "94636d1b-ba87-4458-a853-8e1381ece055",
   "metadata": {},
   "outputs": [
    {
     "name": "stdout",
     "output_type": "stream",
     "text": [
      "7295372\n",
      "CPU times: user 962 ms, sys: 3.66 ms, total: 966 ms\n",
      "Wall time: 965 ms\n"
     ]
    }
   ],
   "source": [
    "%%time\n",
    "def pe_73():\n",
    "    u_limit = 1/2\n",
    "    l_limit = 1/3\n",
    "    d_bound = 12000\n",
    "    fracs_in_range = 0\n",
    "    for d in range(d_bound, 4, -1):\n",
    "        l_index = int(d//3)\n",
    "        if not l_index: continue\n",
    "        r_index = int(d//2)+1\n",
    "        for n in range(l_index, r_index):\n",
    "            if gcd(n,d)!=1 : continue\n",
    "            val = n / d\n",
    "            if l_limit < val and val < u_limit:\n",
    "                fracs_in_range += 1\n",
    "    print(fracs_in_range)\n",
    "pe_73()"
   ]
  },
  {
   "cell_type": "markdown",
   "id": "bc8b34c9-e859-4d72-bb58-88f18765a918",
   "metadata": {},
   "source": [
    "# 74 - Digit Factorial Chains"
   ]
  },
  {
   "cell_type": "code",
   "execution_count": 5,
   "id": "fb84de10-d461-42db-ac2f-f0f29d4b9819",
   "metadata": {
    "scrolled": true
   },
   "outputs": [
    {
     "name": "stdout",
     "output_type": "stream",
     "text": [
      "402\n",
      "CPU times: user 927 ms, sys: 23.9 ms, total: 951 ms\n",
      "Wall time: 950 ms\n"
     ]
    }
   ],
   "source": [
    "%%time\n",
    "from tqdm import tqdm\n",
    "def pe_74():\n",
    "    seq_n = {169:3, 363601:3, 1454:3, 871:2, 45361:2, 872:2, 45362:2}\n",
    "    long_chains = 0\n",
    "    for n in range(10**6):\n",
    "        if n in seq_n: continue\n",
    "        seq_len = 0\n",
    "        seq_term = n\n",
    "        while(True):\n",
    "            seq_len += 1\n",
    "            new_seq_term = sum([factorial(int(x)) for x in str(seq_term)])\n",
    "            if new_seq_term == seq_term:break\n",
    "            seq_term = new_seq_term\n",
    "            if seq_term in seq_n:\n",
    "                seq_len += seq_n[seq_term]\n",
    "                break\n",
    "        if not n in seq_n: seq_n[n] = seq_len\n",
    "        if seq_len == 60: long_chains += 1\n",
    "    print(long_chains)\n",
    "pe_74()"
   ]
  },
  {
   "cell_type": "markdown",
   "id": "99998bde-98e2-4f34-83bc-d104fd00d51f",
   "metadata": {},
   "source": [
    "# 75 - Singular Integer Right Triangles"
   ]
  },
  {
   "cell_type": "code",
   "execution_count": 6,
   "id": "23ef093a-8528-4bef-b8a8-1cc7aaaf3446",
   "metadata": {},
   "outputs": [
    {
     "name": "stdout",
     "output_type": "stream",
     "text": [
      "161667\n",
      "CPU times: user 205 ms, sys: 20.3 ms, total: 226 ms\n",
      "Wall time: 225 ms\n"
     ]
    }
   ],
   "source": [
    "%%time\n",
    "def pe_75():\n",
    "    L = 15 * 10**5\n",
    "    n_limit = int(sqrt(L//2)+1)\n",
    "    triples_per_len = {}\n",
    "    for n in range(1,n_limit):\n",
    "        for m in range(n+1,n_limit):\n",
    "            if not (n%2 ^ m%2) or gcd(n,m)!=1: continue\n",
    "            p_sum = t_sum  = sum([m**2 - n**2, 2*m*n, m**2 + n**2])\n",
    "            if t_sum > L : break\n",
    "            for k in range(2, L // t_sum + 2):\n",
    "                if t_sum in triples_per_len:\n",
    "                    triples_per_len[t_sum]+=1\n",
    "                else:\n",
    "                    triples_per_len[t_sum] = 1\n",
    "                t_sum = k*p_sum\n",
    "    print(sum(1 for x in triples_per_len.values() if x == 1))\n",
    "pe_75()"
   ]
  },
  {
   "cell_type": "markdown",
   "id": "01e523e4-044c-4054-94d0-f24b04138cdd",
   "metadata": {},
   "source": [
    "# 76 - Counting Summations"
   ]
  },
  {
   "cell_type": "code",
   "execution_count": 7,
   "id": "49da97df-4af2-41a1-8f84-29711374b163",
   "metadata": {},
   "outputs": [
    {
     "name": "stdout",
     "output_type": "stream",
     "text": [
      "190569291\n",
      "CPU times: user 850 μs, sys: 0 ns, total: 850 μs\n",
      "Wall time: 842 μs\n"
     ]
    }
   ],
   "source": [
    "%%time\n",
    "def pe_76():\n",
    "    size = 101\n",
    "    grid = [[0 for _ in range(size)] if i!=0 else [1 for _ in range(size)] for i in range(size)]\n",
    "    for n in range(1,size):\n",
    "        for k in range(1, size):\n",
    "            grid[n][k] =  grid[n][k-1]\n",
    "            if n>=k: grid[n][k] += grid[n-k][k]\n",
    "    print(grid[size-1][size-2])\n",
    "pe_76()"
   ]
  },
  {
   "cell_type": "markdown",
   "id": "08b9324e-512c-44e5-b5d7-05cb0cb754be",
   "metadata": {},
   "source": [
    "# 77 - Prime Summations"
   ]
  },
  {
   "cell_type": "code",
   "execution_count": 8,
   "id": "6c7c49ad-8617-4101-a06a-17b5d718ddc9",
   "metadata": {},
   "outputs": [],
   "source": [
    "def prime_list(l):\n",
    "    n = l*10\n",
    "    prime_list = []\n",
    "    primes = [1 for _ in range(n)]\n",
    "    for i in range(2,n):\n",
    "        if primes[i]:\n",
    "            prime_list.append(i)\n",
    "            for j in range(i*i, n, i):\n",
    "                primes[j] = 0\n",
    "    return prime_list"
   ]
  },
  {
   "cell_type": "code",
   "execution_count": 9,
   "id": "4939a657-b138-4e43-96ca-3ed36d668e16",
   "metadata": {},
   "outputs": [
    {
     "name": "stdout",
     "output_type": "stream",
     "text": [
      "71\n",
      "CPU times: user 1.07 ms, sys: 0 ns, total: 1.07 ms\n",
      "Wall time: 1.06 ms\n"
     ]
    }
   ],
   "source": [
    "%%time\n",
    "def pe_77():\n",
    "    size = 100\n",
    "    p_list = prime_list(size)\n",
    "    grid = [[0 for _ in range(size)] if i!=0 else [1 for _ in range(size)] for i in range(size)]\n",
    "    for n in range(2,size):\n",
    "        for k in range(0, size):\n",
    "            if k>= 1: grid[n][k] =  grid[n][k-1]\n",
    "            if n-p_list[k] >= 0: grid[n][k] += grid[n-p_list[k]][k]\n",
    "            if grid[n][k] > 5000:\n",
    "                print(n)\n",
    "                return\n",
    "pe_77()"
   ]
  },
  {
   "cell_type": "markdown",
   "id": "dfcb7009-3c67-40cf-996f-e679384e0978",
   "metadata": {},
   "source": [
    "# 78 - Coin Partitions"
   ]
  },
  {
   "cell_type": "code",
   "execution_count": 10,
   "id": "2de028ee-fe3c-4365-9a4b-d6e1f3ad4c4a",
   "metadata": {},
   "outputs": [
    {
     "name": "stdout",
     "output_type": "stream",
     "text": [
      "55374\n",
      "CPU times: user 2.74 s, sys: 3.53 ms, total: 2.75 s\n",
      "Wall time: 2.75 s\n"
     ]
    }
   ],
   "source": [
    "%%time\n",
    "def pe_78():\n",
    "    g = lambda k : int((k*(3*k - 1))/2)\n",
    "    p = [1, 1, 2]\n",
    "    for n in range(3, 10**5):\n",
    "        p_n = 0\n",
    "        k=1\n",
    "        pos = 0\n",
    "        neg = 0\n",
    "        while pos <= n or neg <= n:\n",
    "            pos = g(k)\n",
    "            neg = g(-1*k)\n",
    "            sign = -1 if (k-1)%2 else 1\n",
    "            if pos <= n: p_n += sign * p[n-pos]\n",
    "            if neg <= n: p_n += sign * p[n-neg]\n",
    "            k+=1\n",
    "        if not p_n % 10**6:\n",
    "            print(n)\n",
    "            return\n",
    "        p.append(p_n)\n",
    "pe_78()"
   ]
  },
  {
   "cell_type": "markdown",
   "id": "dad978d4-c2cd-46a2-9dcb-8dbe888cc168",
   "metadata": {},
   "source": [
    "# 79 - Passcode Derivation"
   ]
  },
  {
   "cell_type": "code",
   "execution_count": 11,
   "id": "91a2e220-0915-4b50-af26-f6dc7c9de7cd",
   "metadata": {},
   "outputs": [
    {
     "name": "stdout",
     "output_type": "stream",
     "text": [
      "73162890\n",
      "CPU times: user 392 μs, sys: 8 μs, total: 400 μs\n",
      "Wall time: 364 μs\n"
     ]
    }
   ],
   "source": [
    "%%time\n",
    "def pe_79():\n",
    "    in_k = []\n",
    "    with open(\"./inputs/0079_keylog.txt\", 'r') as f:\n",
    "        in_k = [[p for p in line.strip()] for line in f]\n",
    "    before_dict = {}\n",
    "    for line in in_k:\n",
    "        for i,c in enumerate(line):\n",
    "            if not c in before_dict:\n",
    "                before_dict[c] = line[:i]\n",
    "            else:\n",
    "                before_dict[c] = list(set(before_dict[c] + line[:i]))\n",
    "    if sum([len(k) for k in before_dict.values()]) != sum(range(len(before_dict.values()))): return\n",
    "    before_dict = dict(sorted(before_dict.items(), key=lambda item: len(item[1])))\n",
    "    print(int(''.join(list(before_dict.keys()))))\n",
    "pe_79()"
   ]
  },
  {
   "cell_type": "markdown",
   "id": "28c18c44-90a7-4855-81ce-104a43b05267",
   "metadata": {},
   "source": [
    "# 80 - Square Root Digital Expansion"
   ]
  },
  {
   "cell_type": "code",
   "execution_count": 12,
   "id": "e6657b7b-a2a7-4893-96a2-28b00182e5ad",
   "metadata": {},
   "outputs": [
    {
     "name": "stdout",
     "output_type": "stream",
     "text": [
      "40886\n",
      "CPU times: user 3.63 ms, sys: 1.04 ms, total: 4.67 ms\n",
      "Wall time: 4.47 ms\n"
     ]
    }
   ],
   "source": [
    "%%time\n",
    "def pe_80():\n",
    "    getcontext().prec = 110\n",
    "    sum_n = 0\n",
    "    for n in range(2,100):\n",
    "        if (int(sqrt(n)))**2 == n: continue\n",
    "        digits = list(str(Decimal(n).sqrt())[:101])\n",
    "        sum_n += sum([int(d) for d in digits if d != \".\"])\n",
    "    print(sum_n)\n",
    "pe_80()"
   ]
  }
 ],
 "metadata": {
  "kernelspec": {
   "display_name": "Python 3 (ipykernel)",
   "language": "python",
   "name": "python3"
  },
  "language_info": {
   "codemirror_mode": {
    "name": "ipython",
    "version": 3
   },
   "file_extension": ".py",
   "mimetype": "text/x-python",
   "name": "python",
   "nbconvert_exporter": "python",
   "pygments_lexer": "ipython3",
   "version": "3.12.8"
  }
 },
 "nbformat": 4,
 "nbformat_minor": 5
}
