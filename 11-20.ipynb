{
 "cells": [
  {
   "cell_type": "markdown",
   "id": "c870d70a-5858-4287-a555-5034ff4a05c1",
   "metadata": {},
   "source": [
    "# Project Euler Solutions - Problems 11-20"
   ]
  },
  {
   "cell_type": "code",
   "execution_count": 1,
   "id": "d70edba0-d76b-4a0a-8b34-6c58b12d0720",
   "metadata": {},
   "outputs": [],
   "source": [
    "import numpy as np\n",
    "\n",
    "def prime_array(n):\n",
    "    primes = np.ones(n)\n",
    "    primes[1] = 0\n",
    "    for k in range(2,n):\n",
    "        if(primes[k]==1):\n",
    "            j=2*k\n",
    "            while j<n:\n",
    "                primes[j]=0\n",
    "                j=j+k\n",
    "    return primes"
   ]
  },
  {
   "cell_type": "markdown",
   "id": "c270052f-88d3-4543-9178-c42dcec28339",
   "metadata": {},
   "source": [
    "## 11 - Largest Product in a Grid"
   ]
  },
  {
   "cell_type": "code",
   "execution_count": 2,
   "id": "b7db0e9c-6404-487b-ad07-0a41b05be480",
   "metadata": {},
   "outputs": [
    {
     "name": "stdout",
     "output_type": "stream",
     "text": [
      "70600674 \n",
      "\n",
      "CPU times: user 756 μs, sys: 69 μs, total: 825 μs\n",
      "Wall time: 908 μs\n"
     ]
    }
   ],
   "source": [
    "%%time\n",
    "def pe_11():\n",
    "\n",
    "    path = \"./inputs/p11_20x20.txt\"; grid = []; max_product = 0\n",
    "    with open(path, 'r') as file:\n",
    "        while True:\n",
    "            line = file.readline()\n",
    "            if not line: break\n",
    "            row = line.split(' ')\n",
    "            grid.append(row)\n",
    "    file.close()\n",
    "    for i in range(0, 20):\n",
    "        for j in range(0, 20):\n",
    "            grid[i][j] = int(grid[i][j])\n",
    "    for i in range(0, 20):\n",
    "        for j in range(0, 20):\n",
    "            if j<17:\n",
    "                product = 1\n",
    "                for k in range(0, 4): product *= grid[i][j+k]\n",
    "                if product > max_product: max_product = product\n",
    "            if i<17:\n",
    "                product = 1\n",
    "                for k in range(0, 4): product *= grid[i+k][j]\n",
    "                if product > max_product: max_product = product\n",
    "            if i<17 and j<17:\n",
    "                product = 1\n",
    "                for k in range(0, 4): product *= grid[i+k][j+k]\n",
    "                if product > max_product: max_product = product\n",
    "            if i<17 and j>3:\n",
    "                product = 1\n",
    "                for k in range(0, 4): product *= grid[i+k][j-k]\n",
    "                if product > max_product: max_product = product\n",
    "    print(max_product, \"\\n\")\n",
    "\n",
    "pe_11()"
   ]
  },
  {
   "cell_type": "markdown",
   "id": "580f4e90-1953-4931-9177-672b01209ba3",
   "metadata": {},
   "source": [
    "## 12 - Highly Divisible Triangular Number"
   ]
  },
  {
   "cell_type": "code",
   "execution_count": 3,
   "id": "421ce448-b4fb-43bd-bd76-928b2bd7a6b9",
   "metadata": {},
   "outputs": [],
   "source": [
    "def num_factors(n):\n",
    "    count = 2;\n",
    "    for k in range(2, int(np.ceil(np.sqrt(n)))):\n",
    "        if (n % k == 0): count += 2\n",
    "    return count;"
   ]
  },
  {
   "cell_type": "code",
   "execution_count": 4,
   "id": "33873df2-ce44-4487-aec0-1f9fe0eb1291",
   "metadata": {},
   "outputs": [
    {
     "name": "stdout",
     "output_type": "stream",
     "text": [
      "76576500 \n",
      "\n",
      "CPU times: user 75.6 ms, sys: 0 ns, total: 75.6 ms\n",
      "Wall time: 74.8 ms\n"
     ]
    }
   ],
   "source": [
    "%%time\n",
    "def pe_12():\n",
    "    \n",
    "    num = 0; i = 1\n",
    "    while True:\n",
    "        num += i\n",
    "        if (i & 1):\n",
    "            count = num_factors(i) * num_factors((i+1)/2)\n",
    "        else:\n",
    "            count = num_factors(i/2) * num_factors(i+1)\n",
    "        if (count > 500): print(num, \"\\n\"); break\n",
    "        count = 0; i += 1\n",
    "\n",
    "pe_12()"
   ]
  },
  {
   "cell_type": "code",
   "execution_count": 5,
   "id": "a2b825e4-0273-4d1f-b707-11693f2939a4",
   "metadata": {},
   "outputs": [
    {
     "name": "stdout",
     "output_type": "stream",
     "text": [
      "76576500 \n",
      "\n",
      "CPU times: user 1.4 s, sys: 0 ns, total: 1.4 s\n",
      "Wall time: 1.4 s\n"
     ]
    }
   ],
   "source": [
    "%%time\n",
    "def pe_12_alternate():\n",
    "    \n",
    "    num = 0; i = 1\n",
    "    while True:\n",
    "        num += i\n",
    "        if num_factors(num) > 500: print(num, \"\\n\"); break\n",
    "        count = 0; i += 1\n",
    "\n",
    "pe_12_alternate()"
   ]
  },
  {
   "cell_type": "markdown",
   "id": "babbcffa-b1cb-4102-8a0f-5aa4c9f1caf0",
   "metadata": {},
   "source": [
    "## 13 - Large Sum"
   ]
  },
  {
   "cell_type": "code",
   "execution_count": 6,
   "id": "0b9c9348-f30a-49ae-bed3-8ae5e6685380",
   "metadata": {},
   "outputs": [
    {
     "name": "stdout",
     "output_type": "stream",
     "text": [
      "5537376230 \n",
      "\n",
      "CPU times: user 1.26 ms, sys: 0 ns, total: 1.26 ms\n",
      "Wall time: 1.04 ms\n"
     ]
    }
   ],
   "source": [
    "%%time\n",
    "def pe_13():\n",
    "    \n",
    "    path = \"./inputs/p13_10050.txt\"; nums = []\n",
    "    with open(path, 'r') as file:\n",
    "        while True:\n",
    "            line = file.readline()\n",
    "            if not line: break\n",
    "            row = list(line)\n",
    "            nums.append(row)\n",
    "    file.close()\n",
    "    for i in range(0, 100):\n",
    "        for j in range(0, 50):\n",
    "            nums[i][j] = int(nums[i][j])\n",
    "    carry =0; mult =1\n",
    "    for j in range(49, 10, -1):\n",
    "        for i in range(0, 100):\n",
    "            carry += nums [i][j]\n",
    "        carry/=10 \n",
    "    for j in range(10, -1, -1):   \n",
    "        for i in range(0, 100):\n",
    "            carry += nums[i][j] * mult\n",
    "        mult*=10\n",
    "    while carry > 10**10:\n",
    "        carry /= 10\n",
    "    print(int(np.floor(carry)), \"\\n\")\n",
    "\n",
    "pe_13()"
   ]
  },
  {
   "cell_type": "markdown",
   "id": "4e38ade0-4cc2-4c05-a4ab-9469b1325ee0",
   "metadata": {},
   "source": [
    "## 14 - Longest Collatz Sequence"
   ]
  },
  {
   "cell_type": "code",
   "execution_count": 7,
   "id": "47c2b0d8-899e-4b87-83c6-629aade71ff0",
   "metadata": {},
   "outputs": [
    {
     "name": "stdout",
     "output_type": "stream",
     "text": [
      "837799 \n",
      "\n",
      "CPU times: user 11 s, sys: 0 ns, total: 11 s\n",
      "Wall time: 11 s\n"
     ]
    }
   ],
   "source": [
    "%%time\n",
    "def pe_14():\n",
    "    \n",
    "    max_start=3; max_chain=0;\n",
    "    for i in range(3, 10**6):\n",
    "        chain = 1; num = i\n",
    "        while(num != 1):\n",
    "            if not int(num) & 1:\n",
    "                num /= 2\n",
    "            else:\n",
    "                num = (num*3)+1\n",
    "            chain += 1;\n",
    "        if(chain > max_chain): \n",
    "            max_chain = chain \n",
    "            max_start = i\n",
    "    print(max_start, \"\\n\")\n",
    "\n",
    "pe_14()"
   ]
  },
  {
   "cell_type": "markdown",
   "id": "4e0aefc9-bbf0-4193-9b00-2c253bf01431",
   "metadata": {},
   "source": [
    "## 15 - Lattice Paths"
   ]
  },
  {
   "cell_type": "code",
   "execution_count": 8,
   "id": "be960930-7617-4cad-899e-54451c6b7fb2",
   "metadata": {},
   "outputs": [],
   "source": [
    "def factorial(n):\n",
    "    if n == 1: return 1\n",
    "    return n * factorial(n-1)"
   ]
  },
  {
   "cell_type": "code",
   "execution_count": 9,
   "id": "ddddcba5-9571-48b6-b12e-96786fb92fa8",
   "metadata": {},
   "outputs": [
    {
     "name": "stdout",
     "output_type": "stream",
     "text": [
      "137846528820 \n",
      "\n",
      "CPU times: user 71 μs, sys: 0 ns, total: 71 μs\n",
      "Wall time: 69.1 μs\n"
     ]
    }
   ],
   "source": [
    "%%time\n",
    "def pe_15():\n",
    "    \n",
    "    n=40; r=20\n",
    "    permutations = factorial(n)\n",
    "    combinations = permutations / (factorial(r)*factorial(n-r))\n",
    "    print(int(combinations), \"\\n\")\n",
    "\n",
    "pe_15()"
   ]
  },
  {
   "cell_type": "code",
   "execution_count": 10,
   "id": "d4be3c17-2c10-4575-a7d1-ec447d7dc9cf",
   "metadata": {},
   "outputs": [
    {
     "name": "stdout",
     "output_type": "stream",
     "text": [
      "137846528820 \n",
      "\n",
      "CPU times: user 742 μs, sys: 5 μs, total: 747 μs\n",
      "Wall time: 742 μs\n"
     ]
    }
   ],
   "source": [
    "%%time\n",
    "def pe_15_alternate():\n",
    "\n",
    "    n=40; r=20;\n",
    "    n += 1\n",
    "    pascal = np.empty(shape=(n,n))\n",
    "    pascal.fill(0)\n",
    "    for i in range(0, n):\n",
    "        pascal[i][0]=1\n",
    "    for i in range(1, n):\n",
    "        for j in range(1, n):\n",
    "            pascal[i][j] = pascal[i-1][j]+pascal[i-1][j-1];\n",
    "    print(int(pascal[n-1][r]), \"\\n\")\n",
    "\n",
    "pe_15_alternate()"
   ]
  },
  {
   "cell_type": "markdown",
   "id": "38a71b99-07ae-4d23-b111-55f2a7f0dad9",
   "metadata": {},
   "source": [
    "## 16 - Power Digit Sum"
   ]
  },
  {
   "cell_type": "code",
   "execution_count": 11,
   "id": "3193475d-7a94-4895-89bf-f261da0ff4cf",
   "metadata": {},
   "outputs": [
    {
     "name": "stdout",
     "output_type": "stream",
     "text": [
      "1366 \n",
      "\n",
      "CPU times: user 147 μs, sys: 0 ns, total: 147 μs\n",
      "Wall time: 147 μs\n"
     ]
    }
   ],
   "source": [
    "%%time\n",
    "def pe_16():\n",
    "\n",
    "    print(np.sum(list(map(int, str(2**1000)))), \"\\n\")\n",
    "\n",
    "pe_16()"
   ]
  },
  {
   "cell_type": "markdown",
   "id": "26dcf942-cbfe-45b7-90ea-0574bf08f55f",
   "metadata": {},
   "source": [
    "## 17 - Number Letter Counts"
   ]
  },
  {
   "cell_type": "code",
   "execution_count": 12,
   "id": "4b6a45b1-8c6e-43c7-9ca6-1f2d8a563dd9",
   "metadata": {},
   "outputs": [
    {
     "name": "stdout",
     "output_type": "stream",
     "text": [
      "21124 \n",
      "\n",
      "CPU times: user 1.34 ms, sys: 3 μs, total: 1.35 ms\n",
      "Wall time: 1.35 ms\n"
     ]
    }
   ],
   "source": [
    "%%time\n",
    "def pe_17():\n",
    "\n",
    "    key = { 0:0, 1:3, 2:3, 3:5, 4:4, 5:4, 6:3, 7:5, 8:5, 9:4, \n",
    "           10:3, 11:6, 12:6, 13:8, 14:8, 15:7, 16:7, 17:9, 18:8, 19:8,\n",
    "           20:6, 30:6, 40:5, 50:5, 60:5, 70:7, 80:6, 90:6 }\n",
    "    sum = 11\n",
    "    for i in range(1, 1000):\n",
    "        hundreds = int(np.floor(i/100)); rest = i%100\n",
    "        if hundreds: sum += 7+key[hundreds]\n",
    "        if hundreds and rest: sum += 3\n",
    "        if 1<=rest<=19: sum += key[rest]\n",
    "        if rest > 19: sum += key[rest%10] + key[int(np.floor(rest/10))*10]\n",
    "    print(sum, \"\\n\")\n",
    "    \n",
    "pe_17()"
   ]
  },
  {
   "cell_type": "markdown",
   "id": "1c2b342d-fc23-4d4b-b0de-98addfd00a4f",
   "metadata": {},
   "source": [
    "## 18 - Maximum Path Sum I"
   ]
  },
  {
   "cell_type": "code",
   "execution_count": 13,
   "id": "e77256f1-9a00-4044-8473-785fb8060008",
   "metadata": {},
   "outputs": [
    {
     "name": "stdout",
     "output_type": "stream",
     "text": [
      "1074 \n",
      "\n",
      "CPU times: user 0 ns, sys: 264 μs, total: 264 μs\n",
      "Wall time: 165 μs\n"
     ]
    }
   ],
   "source": [
    "%%time\n",
    "def pe_18():\n",
    "    \n",
    "    path = \"./inputs/p18_grid.txt\"; nums = []\n",
    "    with open(path, 'r') as file:\n",
    "        while True:\n",
    "            line = file.readline()\n",
    "            if not line: break\n",
    "            row = [int(x) for x in line.split(' ')]\n",
    "            nums.append(row)\n",
    "    file.close()\n",
    "    for i in range(len(nums)-2, -1, -1):\n",
    "        for j in range(0, len(nums[i])):\n",
    "            nums[i][j] += max(nums[i+1][j], nums[i+1][j+1])\n",
    "    print(nums[0][0], \"\\n\")\n",
    "    \n",
    "pe_18()"
   ]
  },
  {
   "cell_type": "markdown",
   "id": "d4d14aa3-c3f1-48d9-801f-8337493836c8",
   "metadata": {},
   "source": [
    "## 19 - Counting Sundays"
   ]
  },
  {
   "cell_type": "code",
   "execution_count": 14,
   "id": "eeb88c36-5ee0-4c84-958b-82100af892c2",
   "metadata": {},
   "outputs": [
    {
     "name": "stdout",
     "output_type": "stream",
     "text": [
      "171 \n",
      "\n",
      "CPU times: user 0 ns, sys: 114 μs, total: 114 μs\n",
      "Wall time: 117 μs\n"
     ]
    }
   ],
   "source": [
    "%%time\n",
    "def pe_19():\n",
    "\n",
    "    key = { 1:31, 2:28, 3:31, 4:30, 5:31, 6:30, \n",
    "           7:31, 8:31, 9:30, 10:31, 11:30, 12:31}\n",
    "    days=1; sundays = 0\n",
    "    for i in range(1901, 2001):\n",
    "        for j in range(1, 13):\n",
    "            days += key[j]\n",
    "            if j == 2 and i%4 == 0: days +=1\n",
    "            if (days+1) % 7 == 0: sundays += 1\n",
    "    print(sundays, \"\\n\")\n",
    "\n",
    "pe_19()"
   ]
  },
  {
   "cell_type": "markdown",
   "id": "2d30997d-c4a3-4e00-80c6-e248cb22c9d2",
   "metadata": {},
   "source": [
    "## 20 - Factorial Digit Sum"
   ]
  },
  {
   "cell_type": "code",
   "execution_count": 15,
   "id": "6fffee68-b60c-44ef-942f-09dbcecb9f51",
   "metadata": {},
   "outputs": [
    {
     "name": "stdout",
     "output_type": "stream",
     "text": [
      "648 \n",
      "\n",
      "CPU times: user 110 μs, sys: 0 ns, total: 110 μs\n",
      "Wall time: 111 μs\n"
     ]
    }
   ],
   "source": [
    "%%time\n",
    "def pe_20():\n",
    "    \n",
    "    print(np.sum(list(map(int, str(factorial(100))))), \"\\n\")\n",
    "\n",
    "pe_20()"
   ]
  }
 ],
 "metadata": {
  "kernelspec": {
   "display_name": "Python 3 (ipykernel)",
   "language": "python",
   "name": "python3"
  },
  "language_info": {
   "codemirror_mode": {
    "name": "ipython",
    "version": 3
   },
   "file_extension": ".py",
   "mimetype": "text/x-python",
   "name": "python",
   "nbconvert_exporter": "python",
   "pygments_lexer": "ipython3",
   "version": "3.12.8"
  }
 },
 "nbformat": 4,
 "nbformat_minor": 5
}
