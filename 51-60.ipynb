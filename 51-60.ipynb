{
 "cells": [
  {
   "cell_type": "code",
   "execution_count": 1,
   "id": "adebac48-c294-410e-9996-7931e7903af3",
   "metadata": {},
   "outputs": [],
   "source": [
    "import os\n",
    "import itertools\n",
    "import numpy as np\n",
    "from collections import Counter\n",
    "from fractions import Fraction\n",
    "from math import comb\n",
    "from math import sqrt"
   ]
  },
  {
   "cell_type": "markdown",
   "id": "3455bc80-eb2a-454a-8e77-1eaeb4890060",
   "metadata": {},
   "source": [
    "## 51 - Prime Families"
   ]
  },
  {
   "cell_type": "code",
   "execution_count": 2,
   "id": "26b0767e-9062-4419-8bb1-ce047dd54e15",
   "metadata": {},
   "outputs": [],
   "source": [
    "def primes_by_digit(ss):\n",
    "    prime_array = np.ones(ss)\n",
    "    prime_array[0] = 0\n",
    "    prime_array[1] = 0\n",
    "    primes_by_digit_count =[]\n",
    "    curr_list = []\n",
    "    curr_index = 1\n",
    "    for i in range(2,ss):\n",
    "        if prime_array[i]:\n",
    "            index = int(np.floor(np.log10(i)))\n",
    "            if index == curr_index:\n",
    "                curr_list.append(str(i))\n",
    "            else:\n",
    "                curr_index = index\n",
    "                primes_by_digit_count.append(curr_list)\n",
    "                curr_list = []\n",
    "                curr_list.append(str(i))\n",
    "            for j in range(i*2, ss, i):\n",
    "                prime_array[j] = 0\n",
    "    return primes_by_digit_count"
   ]
  },
  {
   "cell_type": "code",
   "execution_count": 3,
   "id": "182fee59-571d-441b-a743-8a73dd731d69",
   "metadata": {},
   "outputs": [],
   "source": [
    "def num_filter(num, pattern):\n",
    "    new_num = \"\"\n",
    "    char_c = None\n",
    "    for c1, c2 in zip(num, pattern):\n",
    "        if c2 == '1':\n",
    "            new_num+=c1\n",
    "        else:\n",
    "            if not char_c:\n",
    "                char_c = c1\n",
    "            elif char_c != c1:\n",
    "                return None\n",
    "            new_num+='*'\n",
    "    return new_num"
   ]
  },
  {
   "cell_type": "code",
   "execution_count": 4,
   "id": "48617b1a-0b8e-4cd6-a553-277521fd6f7f",
   "metadata": {},
   "outputs": [],
   "source": [
    "def build_pattern(pattern):\n",
    "    possibles = []\n",
    "    for i in range(10):\n",
    "        this_num = \"\"\n",
    "        for char in pattern:\n",
    "            if char == '*':\n",
    "                this_num += str(i)\n",
    "            else:\n",
    "                this_num += char\n",
    "        possibles.append(this_num)\n",
    "    return possibles"
   ]
  },
  {
   "cell_type": "code",
   "execution_count": 5,
   "id": "c292b559-7900-4006-8e0c-25d2b6c03439",
   "metadata": {},
   "outputs": [
    {
     "name": "stdout",
     "output_type": "stream",
     "text": [
      "*2*3*3\n",
      "121313\n",
      "CPU times: user 4.09 s, sys: 43.2 ms, total: 4.13 s\n",
      "Wall time: 4.13 s\n"
     ]
    }
   ],
   "source": [
    "%%time\n",
    "def pe_51():\n",
    "    prime_array = primes_by_digit(10**7 + 20)\n",
    "    for n,prime_list in enumerate(prime_array):\n",
    "        for k in range(1, n-1):\n",
    "            for ones_pos in itertools.combinations(range(n), k):\n",
    "                bits = ['0'] * n\n",
    "                for pos in ones_pos:\n",
    "                    bits[pos] = '1'\n",
    "                combo = ''.join(bits)\n",
    "                filtered_list = []\n",
    "                for prime in prime_list:\n",
    "                    new_num = num_filter(prime, combo)\n",
    "                    if new_num:\n",
    "                        filtered_list.append(new_num)\n",
    "                pattern_dict = dict(Counter(filtered_list))\n",
    "                if max(pattern_dict.values()) == 8:\n",
    "                    pattern = max(pattern_dict, key=pattern_dict.get)\n",
    "                    print(pattern)\n",
    "                    possibles = build_pattern(pattern)\n",
    "                    for possible in possibles:\n",
    "                        if possible in prime_list:\n",
    "                            print(possible)\n",
    "                            return\n",
    "pe_51()"
   ]
  },
  {
   "cell_type": "markdown",
   "id": "a406246f-6d9b-46a6-b4cc-bba10e6ffa88",
   "metadata": {},
   "source": [
    "# 52 - Permuted Multiples"
   ]
  },
  {
   "cell_type": "code",
   "execution_count": 6,
   "id": "b3853de1-d6cd-4d47-8426-4383f9c36c05",
   "metadata": {},
   "outputs": [],
   "source": [
    "def digits(n):\n",
    "    digit_list = []\n",
    "    for char in str(n):\n",
    "        digit_list.append(char)\n",
    "    digit_list.sort()\n",
    "    return ''.join(digit_list)"
   ]
  },
  {
   "cell_type": "code",
   "execution_count": 7,
   "id": "a574b1b9-6d85-405c-b759-47a23efcd0e8",
   "metadata": {},
   "outputs": [
    {
     "name": "stdout",
     "output_type": "stream",
     "text": [
      "142857\n",
      "CPU times: user 911 ms, sys: 0 ns, total: 911 ms\n",
      "Wall time: 910 ms\n"
     ]
    }
   ],
   "source": [
    "%%time\n",
    "def pe_52():\n",
    "    for i in range(2, 10**6):\n",
    "        multiple_digit_list = []\n",
    "        for j in range(1, 7):\n",
    "            multiple_digit_list.append(digits(i*j))\n",
    "        if len(np.unique(multiple_digit_list)) == 1:\n",
    "            print(i)\n",
    "            return\n",
    "pe_52()"
   ]
  },
  {
   "cell_type": "markdown",
   "id": "f312b1d9-21b0-426f-8790-2ea937166c47",
   "metadata": {},
   "source": [
    "# 53 - Large Combinatorics"
   ]
  },
  {
   "cell_type": "code",
   "execution_count": 8,
   "id": "2361cc6e-e4ba-4ce5-a91b-40b4e13e1167",
   "metadata": {},
   "outputs": [
    {
     "name": "stdout",
     "output_type": "stream",
     "text": [
      "4075\n",
      "CPU times: user 400 μs, sys: 0 ns, total: 400 μs\n",
      "Wall time: 407 μs\n"
     ]
    }
   ],
   "source": [
    "%%time\n",
    "def pe_53():\n",
    "    total = 0\n",
    "    for n in range(1, 101):\n",
    "        for r in range(1, n+1):\n",
    "            if comb(n, r) > 10**6:\n",
    "                total += 1\n",
    "    print(total)\n",
    "pe_53()"
   ]
  },
  {
   "cell_type": "markdown",
   "id": "1e97aff8-945d-42fc-9df0-2250670d91eb",
   "metadata": {},
   "source": [
    "# 54 - Poker Hands"
   ]
  },
  {
   "cell_type": "code",
   "execution_count": 9,
   "id": "0549eb10-1984-4a2b-a4d1-1f74d93bb4cf",
   "metadata": {},
   "outputs": [],
   "source": [
    "def judge_hand(hand):\n",
    "    hand = hand.split()\n",
    "    player_one_rank, player_one_cards = get_rank(hand[:5])\n",
    "    player_two_rank, player_two_cards = get_rank(hand[5:])\n",
    "    if player_one_rank>player_two_rank:\n",
    "        return 1\n",
    "    elif player_one_rank == player_two_rank:\n",
    "        for p1, p2 in zip(player_one_cards, player_two_cards):\n",
    "            if p1 > p2:\n",
    "                return 1\n",
    "            elif p2 > p1:\n",
    "                return 0\n",
    "            else:\n",
    "                continue\n",
    "    else:\n",
    "        return 0"
   ]
  },
  {
   "cell_type": "code",
   "execution_count": 10,
   "id": "ea7fc579-69f1-4574-956e-c3b67ede7f37",
   "metadata": {},
   "outputs": [],
   "source": [
    "def get_rank(cards):\n",
    "    face_card_map = {'T':10, 'J':11, 'Q':12, 'K':13, 'A':14}\n",
    "    values = []\n",
    "    suits = []\n",
    "    for card in cards:\n",
    "        suits.append(card[-1])\n",
    "        if card[:-1] in face_card_map:\n",
    "            values.append(face_card_map[card[:-1]])\n",
    "        else:\n",
    "            values.append(int(card[:-1]))\n",
    "    values = np.sort(values)\n",
    "    values = values[::-1]\n",
    "    unique_values, counts = np.unique(values, return_counts=True)\n",
    "    num_unique_cards = len(unique_values)\n",
    "\n",
    "    if num_unique_cards == 5:\n",
    "        flush = True if len(np.unique(suits))==1 else False\n",
    "        straight = True\n",
    "        for i in range(0, 4):\n",
    "            if values[i]-1 != values[i+1]:\n",
    "                straight = False\n",
    "                break\n",
    "        if np.array_equal(values , [14, 5, 4, 3, 2]):\n",
    "            straight = True\n",
    "            values = [5, 4, 3, 2, 1]\n",
    "            \n",
    "        if straight and flush:    \n",
    "            return (8, values)       \n",
    "        elif flush:\n",
    "            return (5, values)\n",
    "        elif straight:\n",
    "            return (4, values)\n",
    "        else:\n",
    "            return (0, values)\n",
    "    else:\n",
    "        sorted_pairs = sorted(zip(unique_values, counts), key=lambda x: (-x[1], -x[0]))\n",
    "        sorted_values, sorted_counts = zip(*sorted_pairs)\n",
    "        \n",
    "        if num_unique_cards == 4:\n",
    "            return (1, sorted_values)\n",
    "        elif num_unique_cards == 3:\n",
    "            if sorted_counts[0] == 2:\n",
    "                return (2, sorted_values)\n",
    "            else:\n",
    "                return (3, sorted_values)\n",
    "        elif num_unique_cards == 2:\n",
    "            if sorted_counts[0] == 3:\n",
    "                return (6, sorted_values)\n",
    "            else:\n",
    "                return (7, sorted_values)"
   ]
  },
  {
   "cell_type": "code",
   "execution_count": 11,
   "id": "ec6ffa63-1a56-43f5-91c3-6fff9064113a",
   "metadata": {
    "scrolled": true
   },
   "outputs": [
    {
     "name": "stdout",
     "output_type": "stream",
     "text": [
      "376\n",
      "CPU times: user 48.7 ms, sys: 4.12 ms, total: 52.8 ms\n",
      "Wall time: 41.2 ms\n"
     ]
    }
   ],
   "source": [
    "%%time\n",
    "def pe_54():\n",
    "    path = \"./inputs/0054_poker.txt\"\n",
    "    if os.path.exists(path):\n",
    "        with open(path, 'r') as file:\n",
    "            hands = [line.strip() for line in file]\n",
    "            print(sum([judge_hand(hand) for hand in hands]))\n",
    "pe_54()"
   ]
  },
  {
   "cell_type": "markdown",
   "id": "667ac162-1d08-44a3-8cff-b72eb73b2aa4",
   "metadata": {},
   "source": [
    "# 55 - Lychrel Numbers"
   ]
  },
  {
   "cell_type": "code",
   "execution_count": 12,
   "id": "613541f8-6bba-482d-bdb8-72709db4f522",
   "metadata": {},
   "outputs": [],
   "source": [
    "def reverse_num(num_int):\n",
    "    num_str = str(num_int)\n",
    "    num_str = num_str[::-1]\n",
    "    return int(num_str)"
   ]
  },
  {
   "cell_type": "code",
   "execution_count": 13,
   "id": "14fc4ace-ae47-4de2-9581-3e46c046bfc4",
   "metadata": {},
   "outputs": [],
   "source": [
    "def is_palindrome(num_int):\n",
    "    num_str = str(num_int)\n",
    "    str_len = len(num_str)\n",
    "    for i in range(str_len // 2):\n",
    "        if num_str[i] != num_str[str_len-i-1]: return False\n",
    "    return True    "
   ]
  },
  {
   "cell_type": "code",
   "execution_count": 14,
   "id": "2304c1c2-10a4-4e9a-adb2-6a5e0396c0ed",
   "metadata": {},
   "outputs": [
    {
     "name": "stdout",
     "output_type": "stream",
     "text": [
      "249\n",
      "CPU times: user 22.2 ms, sys: 47 μs, total: 22.2 ms\n",
      "Wall time: 21.7 ms\n"
     ]
    }
   ],
   "source": [
    "%%time\n",
    "def pe_55():\n",
    "    lychrel_nums = 0\n",
    "    for n in range(1, 10**4):\n",
    "        is_lychrel = True\n",
    "        num = n\n",
    "        for i in range(50):\n",
    "            num += reverse_num(num)\n",
    "            if is_palindrome(num):\n",
    "                is_lychrel = False\n",
    "                break\n",
    "        if is_lychrel: lychrel_nums += 1\n",
    "    print(lychrel_nums)\n",
    "pe_55()"
   ]
  },
  {
   "cell_type": "markdown",
   "id": "9f83ec8a-f247-48b8-b0b6-37e2388a3d56",
   "metadata": {},
   "source": [
    "# 56 - Powerful Digit Sums"
   ]
  },
  {
   "cell_type": "code",
   "execution_count": 15,
   "id": "7bae40ab-3649-436e-9813-50a7cec8afcf",
   "metadata": {},
   "outputs": [
    {
     "name": "stdout",
     "output_type": "stream",
     "text": [
      "972\n",
      "CPU times: user 60.9 ms, sys: 13 μs, total: 60.9 ms\n",
      "Wall time: 60.4 ms\n"
     ]
    }
   ],
   "source": [
    "%%time\n",
    "def pe_56():\n",
    "    max_sum = 0\n",
    "    for a in range(1, 100):\n",
    "        for b in range(1, 100):\n",
    "            curr_sum = sum([int(char) for char in str(a**b)])\n",
    "            if curr_sum > max_sum: max_sum = curr_sum\n",
    "    print(max_sum)\n",
    "pe_56()"
   ]
  },
  {
   "cell_type": "markdown",
   "id": "bb668fb9-df02-4f3c-890e-963584ff21eb",
   "metadata": {},
   "source": [
    "# 57 - Square Root Convergents"
   ]
  },
  {
   "cell_type": "code",
   "execution_count": 16,
   "id": "867d6b2f-586e-431f-b3ae-94a8971ece33",
   "metadata": {},
   "outputs": [
    {
     "name": "stdout",
     "output_type": "stream",
     "text": [
      "153\n",
      "CPU times: user 4.64 ms, sys: 0 ns, total: 4.64 ms\n",
      "Wall time: 4.52 ms\n"
     ]
    }
   ],
   "source": [
    "%%time\n",
    "def pe_57():\n",
    "    frac = Fraction(1, 2)\n",
    "    total = 0\n",
    "    for n in range(10**3):\n",
    "        frac_n = frac + 1\n",
    "        if len(str(frac_n.numerator)) > len(str(frac_n.denominator)): total += 1\n",
    "        frac = frac + 2\n",
    "        frac = 1 / frac\n",
    "    print(total)\n",
    "pe_57()"
   ]
  },
  {
   "cell_type": "markdown",
   "id": "98eaa11d-7ea9-4eae-9f6a-6dea393aa1b9",
   "metadata": {},
   "source": [
    "# 58 - Number Spiral Diagonals"
   ]
  },
  {
   "cell_type": "code",
   "execution_count": 17,
   "id": "1c9e0fda-b373-47a6-b788-a6f128248f02",
   "metadata": {},
   "outputs": [],
   "source": [
    "def prime_array(size):\n",
    "    prime_array = np.ones(size, np.bool_)\n",
    "    prime_array[0] = False\n",
    "    prime_array[1] = False\n",
    "    sqrt_size = int(sqrt(size)) + 1\n",
    "    for i in range(2,sqrt_size):\n",
    "        if prime_array[i]:\n",
    "            prime_array[i*i:size:i] = False\n",
    "    return prime_array"
   ]
  },
  {
   "cell_type": "code",
   "execution_count": 18,
   "id": "1a3d1593-90ff-4b4d-b558-376a541b49f9",
   "metadata": {},
   "outputs": [
    {
     "name": "stdout",
     "output_type": "stream",
     "text": [
      "26241\n",
      "CPU times: user 5.93 s, sys: 75.8 ms, total: 6.01 s\n",
      "Wall time: 6.01 s\n"
     ]
    }
   ],
   "source": [
    "%%time\n",
    "def pe_58():\n",
    "    primes = prime_array(10**9)\n",
    "    num = 1\n",
    "    diff = 0\n",
    "    total_primes = 0\n",
    "    total = 1\n",
    "    for ring in range(1,10**10):\n",
    "        diff += 2\n",
    "        for side in range(4):\n",
    "            num += diff\n",
    "            total +=1\n",
    "            if primes[num]: total_primes += 1\n",
    "        if total_primes/total < 0.1:\n",
    "            print(ring*2 + 1)\n",
    "            return\n",
    "pe_58()"
   ]
  },
  {
   "cell_type": "markdown",
   "id": "822aaa4c-cbeb-40c9-9667-87d00e45eb58",
   "metadata": {},
   "source": [
    "# 59 - XOR Decryption"
   ]
  },
  {
   "cell_type": "code",
   "execution_count": 19,
   "id": "75661857-e3d6-4c89-bc9a-f27bffb54c8d",
   "metadata": {},
   "outputs": [
    {
     "name": "stdout",
     "output_type": "stream",
     "text": [
      "An extract taken from the introduction of one of Euler's most celebrated papers, \"De summis serierum reciprocarum\" [On the sums of series of reciprocals]: I have recently found, quite unexpectedly, an elegant expression for the entire sum of this series 1 + 1/4 + 1/9 + 1/16 + etc., which depends on the quadrature of the circle, so that if the true sum of this series is obtained, from it at once the quadrature of the circle follows. Namely, I have found that the sum of this series is a sixth part of the square of the perimeter of the circle whose diameter is 1; or by putting the sum of this series equal to s, it has the ratio sqrt(6) multiplied by s to 1 of the perimeter to the diameter. I will soon show that the sum of this series to be approximately 1.644934066842264364; and from multiplying this number by six, and then taking the square root, the number 3.141592653589793238 is indeed produced, which expresses the perimeter of a circle whose diameter is 1. Following again the same steps by which I had arrived at this sum, I have discovered that the sum of the series 1 + 1/16 + 1/81 + 1/256 + 1/625 + etc. also depends on the quadrature of the circle. Namely, the sum of this multiplied by 90 gives the biquadrate (fourth power) of the circumference of the perimeter of a circle whose diameter is 1. And by similar reasoning I have likewise been able to determine the sums of the subsequent series in which the exponents are even numbers.\n",
      "129448\n",
      "CPU times: user 233 ms, sys: 15 μs, total: 233 ms\n",
      "Wall time: 233 ms\n"
     ]
    }
   ],
   "source": [
    "%%time\n",
    "def pe_59():\n",
    "    path = \"./inputs/0059_cipher.txt\"\n",
    "    if os.path.exists(path):\n",
    "        with open(path, 'r') as file:\n",
    "            cipher_ascii = [int(item.strip()) for item in file.read().split(\",\")]\n",
    "    key_len = int(len(cipher_ascii) / 3)\n",
    "    common_words = ['and', 'the', 'for', 'of']\n",
    "    for a in range(97, 123):\n",
    "        for b in range(97, 123):\n",
    "            for c in range(97, 123):\n",
    "                passwd = [a, b, c]\n",
    "                key = []\n",
    "                for _ in range(key_len):\n",
    "                    key.extend(passwd)\n",
    "                plaintext_vals = [j^k for j,k in zip(key, cipher_ascii)]\n",
    "                plaintext_chars = [chr(val) for val in plaintext_vals]\n",
    "                plaintext = ''.join(plaintext_chars)\n",
    "                if all(word in plaintext.lower() for word in common_words):\n",
    "                    print(plaintext)\n",
    "                    print(sum(plaintext_vals))\n",
    "                    return\n",
    "pe_59()"
   ]
  },
  {
   "cell_type": "markdown",
   "id": "58a0cb25-2424-45d5-9085-0ddb6ead9e80",
   "metadata": {},
   "source": [
    "# 60 - Prime Pair Sets"
   ]
  },
  {
   "cell_type": "code",
   "execution_count": 20,
   "id": "e7ff2162-9f36-4195-9916-bd3d4e258459",
   "metadata": {},
   "outputs": [],
   "source": [
    "def prime_array(size):\n",
    "    prime_array = np.ones(size, np.bool_)\n",
    "    prime_array[0] = False\n",
    "    prime_array[1] = False\n",
    "    sqrt_size = int(sqrt(size)) + 1\n",
    "    for i in range(2,sqrt_size):\n",
    "        if prime_array[i]:\n",
    "            prime_array[i*i:size:i] = False\n",
    "    return prime_array"
   ]
  },
  {
   "cell_type": "code",
   "execution_count": 21,
   "id": "7295f229-b8ec-43be-a555-8275469df418",
   "metadata": {},
   "outputs": [],
   "source": [
    "def unique_list(lst):\n",
    "    seen = set()\n",
    "    result = []\n",
    "    for item in lst:\n",
    "        t = tuple(item)\n",
    "        if t not in seen:\n",
    "            seen.add(t)\n",
    "            result.append(item)\n",
    "    return result"
   ]
  },
  {
   "cell_type": "code",
   "execution_count": 22,
   "id": "6e967feb-c3e9-41e3-b0e9-4d8753ceaa49",
   "metadata": {},
   "outputs": [],
   "source": [
    "def is_valid_family(family, num, primes):\n",
    "    for j in range(len(family)):\n",
    "        if not primes[int(str(family[j]) + str(num))] or not primes[int(str(num) + str(family[j]))]: return False\n",
    "    return True"
   ]
  },
  {
   "cell_type": "code",
   "execution_count": 23,
   "id": "888ea2db-7277-4d19-aff8-3dd4e5300887",
   "metadata": {},
   "outputs": [
    {
     "name": "stdout",
     "output_type": "stream",
     "text": [
      "Family: [13, 5197, 5701, 6733, 8389]\tSum: 26033\n",
      "CPU times: user 1min 7s, sys: 1.26 s, total: 1min 9s\n",
      "Wall time: 1min 9s\n"
     ]
    }
   ],
   "source": [
    "%%time\n",
    "def pe_60():\n",
    "    primes = prime_array(10**10)\n",
    "    family_list = []\n",
    "    for n in range(10**9):\n",
    "        if not n%20:\n",
    "            for k in range(len(family_list)):\n",
    "                family_list[k] = sorted(family_list[k])\n",
    "            family_list = unique_list(family_list)\n",
    "        \n",
    "        if not primes[n]: continue\n",
    "        n_str = str(n)\n",
    "        n_str_len = len(str(n))\n",
    "        for i in range(1, n_str_len):\n",
    "            s1 = int(n_str[:i])\n",
    "            s2 = int(n_str[i:])\n",
    "            flip = int(str(s2) + str(s1))\n",
    "            if len(str(flip)) != n_str_len: continue\n",
    "            if primes[s1] and primes[s2] and primes[flip]:\n",
    "                for family in family_list:\n",
    "                    if s1 in family and not s2 in family and is_valid_family(family, s2, primes):\n",
    "                        new_family = family + [s2]\n",
    "                        if len(new_family) ==5:\n",
    "                            print(f\"Family: {new_family}\\tSum: {sum(new_family)}\")\n",
    "                            return\n",
    "                        family_list.append(new_family)\n",
    "                    if s2 in family and not s1 in family and is_valid_family(family, s1, primes):\n",
    "                        new_family = family + [s1]\n",
    "                        if len(new_family) ==5:\n",
    "                            print(f\"Family: {new_family}\\tSum: {sum(new_family)}\")\n",
    "                            return\n",
    "                        family_list.append(new_family)\n",
    "                family_list.append([s1, s2])\n",
    "                \n",
    "                for k in range(len(family_list)):\n",
    "                    family_list[k] = sorted(family_list[k])\n",
    "                family_list = unique_list(family_list)\n",
    "pe_60()"
   ]
  }
 ],
 "metadata": {
  "kernelspec": {
   "display_name": "Python 3 (ipykernel)",
   "language": "python",
   "name": "python3"
  },
  "language_info": {
   "codemirror_mode": {
    "name": "ipython",
    "version": 3
   },
   "file_extension": ".py",
   "mimetype": "text/x-python",
   "name": "python",
   "nbconvert_exporter": "python",
   "pygments_lexer": "ipython3",
   "version": "3.12.8"
  }
 },
 "nbformat": 4,
 "nbformat_minor": 5
}
