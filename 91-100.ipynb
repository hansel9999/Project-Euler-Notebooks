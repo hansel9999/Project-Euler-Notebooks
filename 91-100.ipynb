{
 "cells": [
  {
   "cell_type": "code",
   "execution_count": 1,
   "id": "770bfc5e-ed89-4f44-9222-61549dca8177",
   "metadata": {},
   "outputs": [],
   "source": [
    "import itertools\n",
    "from math import sqrt, gcd, lcm"
   ]
  },
  {
   "cell_type": "markdown",
   "id": "5758f8e2-dd10-4195-bbde-82a873ceec8f",
   "metadata": {},
   "source": [
    "# 91 - Right Triangles with Integer Coordinates"
   ]
  },
  {
   "cell_type": "code",
   "execution_count": 2,
   "id": "d59eaf2e-6090-4777-b7cd-1bfa99776081",
   "metadata": {},
   "outputs": [
    {
     "name": "stdout",
     "output_type": "stream",
     "text": [
      "14234\n",
      "CPU times: user 1 s, sys: 0 ns, total: 1 s\n",
      "Wall time: 1 s\n"
     ]
    }
   ],
   "source": [
    "%%time\n",
    "def pe_91():\n",
    "    limit = 50\n",
    "    points = []\n",
    "    for i in range(limit+1):\n",
    "        for j in range(limit+1):\n",
    "            if i == 0 and j == 0: continue\n",
    "            points.append((i,j))\n",
    "    total = 0\n",
    "    for i, (a, b) in enumerate(points):\n",
    "        for c, d in points[i+1:]:\n",
    "            p, q, r = sorted([a**2 + b**2, c**2 + d**2, ((a-c)**2) + ((b-d)**2)])\n",
    "            if p + q - r == 0: total += 1\n",
    "    print(total)\n",
    "pe_91()"
   ]
  },
  {
   "cell_type": "markdown",
   "id": "90d9a31d-2723-4ff3-9186-88dc3c324b15",
   "metadata": {},
   "source": [
    "# 92 - Square Digit Chains"
   ]
  },
  {
   "cell_type": "code",
   "execution_count": 3,
   "id": "303cc78d-d780-4fab-a7e6-0e40f316eb38",
   "metadata": {},
   "outputs": [
    {
     "name": "stdout",
     "output_type": "stream",
     "text": [
      "8581146\n",
      "CPU times: user 5.87 s, sys: 1.28 ms, total: 5.88 s\n",
      "Wall time: 5.87 s\n"
     ]
    }
   ],
   "source": [
    "%%time\n",
    "def pe_92():\n",
    "    nums_89 = []\n",
    "    squares = [i*i for i in range(10)]\n",
    "    for s in range(2, 568):\n",
    "        num = s\n",
    "        while True:\n",
    "            if num == 89:\n",
    "                nums_89.append(s)\n",
    "                break\n",
    "            elif num == 1:\n",
    "                break\n",
    "            else:\n",
    "                num = sum([squares[int(c)] for c in str(num)])\n",
    "    nums_89 = set(nums_89) \n",
    "    total = 0\n",
    "    for s in range(2, 10**7):\n",
    "        if sum([squares[int(c)] for c in str(s)]) in nums_89: total += 1\n",
    "    print(total)\n",
    "pe_92()"
   ]
  },
  {
   "cell_type": "markdown",
   "id": "4f3bf0b4-2c42-45e3-8b58-1749f569587c",
   "metadata": {},
   "source": [
    "# 93 - Arithmetic Expressions"
   ]
  },
  {
   "cell_type": "code",
   "execution_count": 4,
   "id": "969ff319-0359-46ad-901d-4caebcaa455c",
   "metadata": {},
   "outputs": [],
   "source": [
    "def eval_n(digits, ops):\n",
    "    result = []\n",
    "    t_d = {c:k for c,k in zip(['a', 'b', 'c', 'd', 'x', 'y', 'z'], digits + ops)}    \n",
    "    templates = [\n",
    "        \"( {a} {x} ( {b} {y} {c} )) {z} {d}\",\n",
    "        \"( {a} {x} {b} ) {y} ( {c} {z} {d} )\",\n",
    "        \"(( {a} {x} {b} ) {y} {c} ) {z} {d}\",\n",
    "        \"{a} {x} ( {b} {y} ( {c} {z} {d} ))\",\n",
    "        \"{a} {x} (( {b} {y} {c} ) {z} {d} )\"  \n",
    "    ]\n",
    "    for template in templates:\n",
    "        try:\n",
    "            result.append(eval(template.format(**t_d)))\n",
    "        except ZeroDivisionError:\n",
    "            continue\n",
    "    return result"
   ]
  },
  {
   "cell_type": "code",
   "execution_count": 5,
   "id": "ae45d2e3-0ded-494c-b809-e5c68595cb44",
   "metadata": {},
   "outputs": [
    {
     "name": "stdout",
     "output_type": "stream",
     "text": [
      "('1258', 51)\n",
      "CPU times: user 42.7 s, sys: 184 ms, total: 42.9 s\n",
      "Wall time: 42.9 s\n"
     ]
    }
   ],
   "source": [
    "%%time\n",
    "def pe_93():\n",
    "    max_n = (\"\", 0)\n",
    "    ops = [\"*\", \"/\", \"+\", \"-\"]\n",
    "    for digits in itertools.combinations(range(1,10), 4):\n",
    "        nums_made = set()\n",
    "        for operators in itertools.product(range(0,4), repeat=3):\n",
    "            for o_perm in itertools.permutations(operators):\n",
    "                o = [ops[i] for i in list(o_perm)]\n",
    "                for d_perm in itertools.permutations(digits):\n",
    "                    for num in eval_n(list(d_perm), o): nums_made.add(num)\n",
    "        n = 1\n",
    "        while n in nums_made: n+=1\n",
    "        n-=1\n",
    "        if n > max_n[1]: max_n = (str(''.join(str(k) for k in digits)), n)\n",
    "    print(max_n)\n",
    "pe_93()"
   ]
  },
  {
   "cell_type": "markdown",
   "id": "4781e02e-eff6-41e9-ba7c-bb4c45c09d15",
   "metadata": {},
   "source": [
    "# 94 - Almost Equilateral Triangles"
   ]
  },
  {
   "cell_type": "code",
   "execution_count": 6,
   "id": "68f08055-8b8b-481c-ba97-487d215891a1",
   "metadata": {},
   "outputs": [
    {
     "name": "stdout",
     "output_type": "stream",
     "text": [
      "518408346\n",
      "CPU times: user 14.5 s, sys: 32 ms, total: 14.5 s\n",
      "Wall time: 14.5 s\n"
     ]
    }
   ],
   "source": [
    "%%time\n",
    "def pe_94():\n",
    "    total = 0\n",
    "    n_limit = 10**9\n",
    "    limit = int(sqrt((10**9)/6)) + 100\n",
    "    for n in range(1,limit):\n",
    "        for m in range(n+1,limit):\n",
    "            if not (n%2 ^ m%2) or gcd(n,m)!=1: continue\n",
    "            a,b,c = [m**2 - n**2, 2*m*n, m**2 + n**2]\n",
    "            if 2*a == c-1 or 2*a == c+1:\n",
    "                sum_n = 2*a + 2*c\n",
    "                if sum_n > n_limit: break\n",
    "                total += sum_n\n",
    "            elif 2*b == c-1 or 2*b == c+1:\n",
    "                sum_n = 2*b + 2*c\n",
    "                if sum_n > n_limit: break\n",
    "                total += sum_n\n",
    "    print(total)\n",
    "pe_94()"
   ]
  },
  {
   "cell_type": "markdown",
   "id": "ebc6ebdb-a711-4617-ad0a-38b48c2bbdc7",
   "metadata": {},
   "source": [
    "# 95 - Amicable Chains"
   ]
  },
  {
   "cell_type": "code",
   "execution_count": 7,
   "id": "89c72148-f923-4b10-b367-4e3782632ab3",
   "metadata": {},
   "outputs": [
    {
     "name": "stdout",
     "output_type": "stream",
     "text": [
      "14316\n",
      "CPU times: user 4.82 s, sys: 92 ms, total: 4.91 s\n",
      "Wall time: 4.91 s\n"
     ]
    }
   ],
   "source": [
    "%%time\n",
    "def pe_95():\n",
    "    max_c = (0,0)\n",
    "    limit = 10**6\n",
    "    sum_d = {i:0 for i in range(1,limit+1)}\n",
    "    for i in range(1, limit//2 + 1):\n",
    "        k=2\n",
    "        while k*i <= limit:\n",
    "            sum_d[k*i] += i\n",
    "            k+=1\n",
    "    chain_d = {i:0 for i in range(1,limit+1)}\n",
    "    for i in range(2, limit+1):\n",
    "        if not chain_d[i]:\n",
    "            this_chain = [i]\n",
    "            curr_num = i\n",
    "            while True:\n",
    "                prev = curr_num\n",
    "                curr_num = sum_d[curr_num]\n",
    "                if curr_num == prev or curr_num == 1: break\n",
    "                if curr_num > limit:\n",
    "                    for num in this_chain: chain_d[num] = 1\n",
    "                    break\n",
    "                elif curr_num in this_chain:\n",
    "                    for num in this_chain: chain_d[num] = 1\n",
    "                    this_chain = this_chain[this_chain.index(curr_num):]\n",
    "                    chain_len = len(this_chain)\n",
    "                    if chain_len >= max_c[0]: max_c = (chain_len, min(this_chain))\n",
    "                    break\n",
    "                this_chain.append(curr_num)\n",
    "    print(max_c[1])\n",
    "pe_95()"
   ]
  },
  {
   "cell_type": "markdown",
   "id": "e88f73ee-88b4-4448-9c7a-c0b6dac1f376",
   "metadata": {},
   "source": [
    "# 96 - Su Doku"
   ]
  },
  {
   "cell_type": "code",
   "execution_count": 8,
   "id": "124758a3-b255-4631-8620-52d3ec745ab9",
   "metadata": {},
   "outputs": [],
   "source": [
    "def reduce(grid):\n",
    "    for _ in range(10):\n",
    "        solved = True\n",
    "        for row in grid:\n",
    "            for item in row:\n",
    "                if len(item) != 1:\n",
    "                    solved = False\n",
    "                    break\n",
    "            if not solved: break\n",
    "        if solved: return 1\n",
    "        for i,row in enumerate(grid):\n",
    "            for j,item in enumerate(row):\n",
    "                if len(item) == 1:\n",
    "                    num = item[0]\n",
    "                    for k in range(9):\n",
    "                        if num in grid[k][j] and k!=i: grid[k][j].remove(num)\n",
    "                    for k in range(9):\n",
    "                        if num in grid[i][k] and k!=j: grid[i][k].remove(num)\n",
    "                    for x in range(3*(i//3), 3*(i//3) + 3):\n",
    "                        for y in range(3*(j//3), 3*(j//3) + 3):\n",
    "                            if num in grid[x][y] and (x,y)!=(i,j): grid[x][y].remove(num)\n",
    "        for col in range(9):\n",
    "            for digit in range(1,10):\n",
    "                found_in_rows = []\n",
    "                for row in range(9):\n",
    "                    if digit in grid[row][col]: found_in_rows.append(row)\n",
    "                if len(found_in_rows) == 1:\n",
    "                    row = found_in_rows[0]\n",
    "                    grid[row][col] = [digit]\n",
    "        for row in range(9):\n",
    "            for digit in range(1,10):\n",
    "                found_in_cols = []\n",
    "                for col in range(9):\n",
    "                    if digit in grid[row][col]: found_in_cols.append(col)\n",
    "                if len(found_in_cols) == 1:\n",
    "                    col = found_in_cols[0]\n",
    "                    grid[row][col] = [digit]\n",
    "        for a in range(3):\n",
    "            for b in range(3):\n",
    "                for digit in range(1,10):\n",
    "                    found_in_locs = []\n",
    "                    for x in range(3):\n",
    "                        row = 3*a + x\n",
    "                        for y in range(3):\n",
    "                            col = 3*b + y\n",
    "                            if digit in grid[row][col]: found_in_locs.append((row, col))\n",
    "                    if len(found_in_locs)==1:\n",
    "                        row, col = found_in_locs[0]\n",
    "                        grid[row][col] = [digit]\n",
    "    return 0"
   ]
  },
  {
   "cell_type": "code",
   "execution_count": 9,
   "id": "07c2f477-8b29-4361-ae0a-c0bf69013478",
   "metadata": {},
   "outputs": [],
   "source": [
    "def is_valid(grid, row, col, digit):\n",
    "    for i in range(9):\n",
    "        if i == row: continue\n",
    "        item = grid[i][col]\n",
    "        if len(item) == 1 and item[0] == digit: return False\n",
    "    for j in range(9):\n",
    "        if j == col: continue\n",
    "        item = grid[row][j]\n",
    "        if len(item) == 1 and item[0] == digit: return False\n",
    "    startRow = row - (row % 3)\n",
    "    startCol = col - (col % 3);\n",
    "    for i in range(3):\n",
    "        for j in range(3):\n",
    "            item = grid[i + startRow][j + startCol]\n",
    "            if item[0] == digit and len(item) == 1: return False\n",
    "    return True"
   ]
  },
  {
   "cell_type": "code",
   "execution_count": 10,
   "id": "03caf23f-18fe-4b0a-b18f-da01c767f499",
   "metadata": {},
   "outputs": [],
   "source": [
    "def solve(grid, row, col):\n",
    "    if row == 8 and col == 9: return True\n",
    "    if col == 9:\n",
    "        row = row + 1\n",
    "        col = 0\n",
    "    if len(grid[row][col]) == 1: return solve(grid, row, col+1)\n",
    "    list_t = grid[row][col]\n",
    "    og_list = list_t[:]\n",
    "    for digit in grid[row][col]:\n",
    "        if is_valid(grid, row, col, digit):\n",
    "            grid[row][col] = [digit]\n",
    "            if solve(grid, row, col+1): return True\n",
    "    grid[row][col] = og_list[:]\n",
    "    return False"
   ]
  },
  {
   "cell_type": "code",
   "execution_count": 11,
   "id": "83af7d89-dda3-4f43-9335-1b0e7bde5854",
   "metadata": {},
   "outputs": [
    {
     "name": "stdout",
     "output_type": "stream",
     "text": [
      "24702\n",
      "CPU times: user 146 ms, sys: 14 μs, total: 146 ms\n",
      "Wall time: 145 ms\n"
     ]
    }
   ],
   "source": [
    "%%time\n",
    "def pe_96():\n",
    "    grids = []\n",
    "    this_grid = []\n",
    "    with open(\"./inputs/0096_sudoku.txt\", 'r') as file:\n",
    "        for line in file:\n",
    "            if line.startswith(\"Grid\"):\n",
    "                if this_grid: grids.append(this_grid)\n",
    "                this_grid = []\n",
    "            else:\n",
    "                row = [[int(c)] for c in line.strip()]\n",
    "                for w in row:\n",
    "                    if w[0] == 0: w[:]=[1,2,3,4,5,6,7,8,9]\n",
    "                this_grid.append(row)\n",
    "        grids.append(this_grid)\n",
    "        \n",
    "    total = 0\n",
    "    for i,grid in enumerate(grids): \n",
    "        if not reduce(grid): solve(grid, 0, 0)\n",
    "        total += int(''.join([str(c[0]) for c in grid[0][:3]]))\n",
    "    print(total)\n",
    "pe_96()"
   ]
  },
  {
   "cell_type": "markdown",
   "id": "ef6eb7d6-9690-48b4-a041-23b93d3be955",
   "metadata": {},
   "source": [
    "# 97 - Large Non-Mersenne Prime"
   ]
  },
  {
   "cell_type": "code",
   "execution_count": 12,
   "id": "692abd92-f691-4edf-85be-ad30bb2b2eae",
   "metadata": {},
   "outputs": [
    {
     "name": "stdout",
     "output_type": "stream",
     "text": [
      "8739992577\n",
      "CPU times: user 19.1 ms, sys: 0 ns, total: 19.1 ms\n",
      "Wall time: 19 ms\n"
     ]
    }
   ],
   "source": [
    "%%time\n",
    "def pe_97():\n",
    "    print(((28433*(2**7830457))+1)%(10**10))\n",
    "pe_97()"
   ]
  },
  {
   "cell_type": "markdown",
   "id": "a01631ec-9404-40de-a0b0-f5d853106f3c",
   "metadata": {},
   "source": [
    "# 98 - Anagramic Squares"
   ]
  },
  {
   "cell_type": "code",
   "execution_count": 13,
   "id": "cad66d9c-a0e6-4d34-81c6-b6bc9af73cba",
   "metadata": {},
   "outputs": [],
   "source": [
    "class Word:\n",
    "    def __init__(self, word):\n",
    "        self.word = word\n",
    "        self.word_len = len(word)\n",
    "        self.word_arr = [c for c in word]\n",
    "        self.word_chars = tuple(sorted(self.word_arr))\n",
    "    def __eq__(self, other):\n",
    "        return self.word_chars == other.word_chars and not tuple(self.word_arr) == tuple(reversed(other.word_arr))"
   ]
  },
  {
   "cell_type": "code",
   "execution_count": 14,
   "id": "5b4e5eeb-f20a-4dfd-bfef-139152f9a680",
   "metadata": {},
   "outputs": [],
   "source": [
    "def get_max(word1, word2, n_squares):\n",
    "    max_s = 0\n",
    "    for n in n_squares:\n",
    "        char_map = {k:v for k,v in zip(word1.word_arr, [c for c in str(n)])}\n",
    "        if len(set(list(char_map.values()))) != len(list(char_map.values())): continue\n",
    "        new_num = ''.join([char_map[c] for c in word2.word_arr])\n",
    "        if new_num[0] == '0': continue\n",
    "        new_num = int(new_num)\n",
    "        if new_num in n_squares:\n",
    "            t_max = max(n, new_num)\n",
    "            if t_max > max_s: max_s = t_max\n",
    "    return max_s"
   ]
  },
  {
   "cell_type": "code",
   "execution_count": 15,
   "id": "f10d541c-64e2-4a7f-a870-bc4429d3106a",
   "metadata": {},
   "outputs": [
    {
     "name": "stdout",
     "output_type": "stream",
     "text": [
      "18769\n",
      "CPU times: user 183 ms, sys: 0 ns, total: 183 ms\n",
      "Wall time: 182 ms\n"
     ]
    }
   ],
   "source": [
    "%%time\n",
    "def pe_98():\n",
    "    with open(\"./inputs/0098_words.txt\", 'r') as file:\n",
    "        contents = [Word(c[1:-1]) for c in file.read().split(',')]\n",
    "    square_lists = {i:[] for i in range(11)}\n",
    "    for i in range(10**5): square_lists[len(str(i*i))].append(i*i)\n",
    "    max_n = 0\n",
    "    for i,word1 in enumerate(contents):\n",
    "        for word2 in contents[i+1:]:\n",
    "            if word1 == word2:\n",
    "                n = get_max(word1, word2, square_lists[word1.word_len])\n",
    "                if n > max_n: max_n = n\n",
    "    print(max_n)\n",
    "pe_98()"
   ]
  },
  {
   "cell_type": "markdown",
   "id": "00a91766-6d3c-4f76-aec7-d8854bf0f99b",
   "metadata": {},
   "source": [
    "# 99 - Largest Exponential"
   ]
  },
  {
   "cell_type": "code",
   "execution_count": 16,
   "id": "2236aa3a-cc71-4281-a37d-ccd4352116bd",
   "metadata": {},
   "outputs": [
    {
     "name": "stdout",
     "output_type": "stream",
     "text": [
      "709\n",
      "CPU times: user 1.3 ms, sys: 0 ns, total: 1.3 ms\n",
      "Wall time: 1.25 ms\n"
     ]
    }
   ],
   "source": [
    "%%time\n",
    "def pe_99():\n",
    "    max_n = (0, 0, 0)\n",
    "    with open(\"./inputs/0099_base_exp.txt\", 'r') as file:\n",
    "        for i,line in enumerate(file):\n",
    "            base, exp = [int(c) for c in line.strip().split(',')]\n",
    "            if base > max_n[0] and exp > max_n[1]:\n",
    "                max_n = (base, exp, i)\n",
    "                continue\n",
    "            div = min(max_n[1], exp)\n",
    "            a = base ** (exp/div)\n",
    "            b = max_n[0] ** (max_n[1]/div)\n",
    "            if a > b: max_n = (base, exp, i)\n",
    "    print(max_n[2] + 1)\n",
    "pe_99()"
   ]
  },
  {
   "cell_type": "markdown",
   "id": "00afc131-893b-4105-8468-40ab1490bffb",
   "metadata": {},
   "source": [
    "# 100 - Arranged Probability"
   ]
  },
  {
   "cell_type": "code",
   "execution_count": 17,
   "id": "6b043066-3ced-4959-a1f8-acb1383bf972",
   "metadata": {
    "scrolled": true
   },
   "outputs": [
    {
     "name": "stdout",
     "output_type": "stream",
     "text": [
      "756872327473\n",
      "CPU times: user 108 μs, sys: 0 ns, total: 108 μs\n",
      "Wall time: 117 μs\n"
     ]
    }
   ],
   "source": [
    "%%time\n",
    "def pe_100():\n",
    "    b = 0\n",
    "    t = 0\n",
    "    b_0 = 15\n",
    "    t_0 = 21\n",
    "    while t < 10**12:\n",
    "        b = (3*b_0) + (2*t_0) - 2\n",
    "        t = (4*b_0) + (3*t_0) - 3\n",
    "        b_0 = b\n",
    "        t_0 = t\n",
    "    print(b)\n",
    "pe_100()"
   ]
  }
 ],
 "metadata": {
  "kernelspec": {
   "display_name": "Python 3 (ipykernel)",
   "language": "python",
   "name": "python3"
  },
  "language_info": {
   "codemirror_mode": {
    "name": "ipython",
    "version": 3
   },
   "file_extension": ".py",
   "mimetype": "text/x-python",
   "name": "python",
   "nbconvert_exporter": "python",
   "pygments_lexer": "ipython3",
   "version": "3.12.8"
  }
 },
 "nbformat": 4,
 "nbformat_minor": 5
}
