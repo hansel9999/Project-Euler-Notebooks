{
 "cells": [
  {
   "cell_type": "markdown",
   "id": "eaeb0e4d-995c-4877-b516-304171e9e3e7",
   "metadata": {},
   "source": [
    "# Project Euler Solutions - Problems 41-50"
   ]
  },
  {
   "cell_type": "code",
   "execution_count": 1,
   "id": "924d397e-ed6e-4fd0-8e9e-9ce003446564",
   "metadata": {},
   "outputs": [],
   "source": [
    "import numpy as np\n",
    "\n",
    "def prime_array(n):\n",
    "    primes = np.ones(n)\n",
    "    primes[1] = 0\n",
    "    for k in range(2,n):\n",
    "        if(primes[k]==1):\n",
    "            j=2*k\n",
    "            while j<n:\n",
    "                primes[j]=0\n",
    "                j=j+k\n",
    "    return primes"
   ]
  },
  {
   "cell_type": "markdown",
   "id": "343a621c-8423-44ab-9300-0d6e4681b931",
   "metadata": {},
   "source": [
    "## 41 - Pandigital Prime"
   ]
  },
  {
   "cell_type": "code",
   "execution_count": 2,
   "id": "794af4b2-9d0c-49ba-a328-4bc33913a613",
   "metadata": {},
   "outputs": [],
   "source": [
    "def is_pan_1(n):\n",
    "    digits = np.sort(list(map(int, str(n))))\n",
    "    model = [x for x in range(1, len(digits)+1)]\n",
    "    for i in range(0, len(digits)):\n",
    "        if digits[i] != model[i]: return False\n",
    "    return True"
   ]
  },
  {
   "cell_type": "code",
   "execution_count": 3,
   "id": "362213ad-6d4a-4d44-8575-41d20dab66f0",
   "metadata": {},
   "outputs": [
    {
     "name": "stdout",
     "output_type": "stream",
     "text": [
      "7652413 \n",
      "\n",
      "CPU times: user 4.86 s, sys: 34.4 ms, total: 4.89 s\n",
      "Wall time: 4.89 s\n"
     ]
    }
   ],
   "source": [
    "%%time\n",
    "def pe_41():\n",
    "\n",
    "    primes = prime_array(10**7); largest = 1\n",
    "    for i in range(1, 10**7):\n",
    "        if primes[i] and is_pan_1(i): largest = i\n",
    "    print(largest, \"\\n\")\n",
    "\n",
    "pe_41()"
   ]
  },
  {
   "cell_type": "markdown",
   "id": "9905a780-49ea-4158-8ef5-57f0ef787920",
   "metadata": {},
   "source": [
    "## 42 - Coded Triangle Numbers"
   ]
  },
  {
   "cell_type": "code",
   "execution_count": 4,
   "id": "ae1fddd7-50f3-4a44-93ea-6050ec85b537",
   "metadata": {},
   "outputs": [],
   "source": [
    "def char_score(input_text):\n",
    "    score = 0\n",
    "    for i in range(0, len(input_text)):\n",
    "        score += ord(input_text[i])-64\n",
    "    return score"
   ]
  },
  {
   "cell_type": "code",
   "execution_count": 5,
   "id": "1a7c84ed-bc88-421d-be31-f1d038120c5d",
   "metadata": {},
   "outputs": [
    {
     "name": "stdout",
     "output_type": "stream",
     "text": [
      "162 \n",
      "\n",
      "CPU times: user 1.91 ms, sys: 0 ns, total: 1.91 ms\n",
      "Wall time: 1.84 ms\n"
     ]
    }
   ],
   "source": [
    "%%time\n",
    "def pe_22():\n",
    "    \n",
    "    path = \"./inputs/p42_words.txt\"\n",
    "    with open(path, 'r') as file:\n",
    "        line = file.readline()\n",
    "    file.close()\n",
    "    words = line.split(',')\n",
    "    for i in range(0, len(words)):\n",
    "       words[i] = words[i][1:len(words[i])-1]\n",
    "    tnums = []; tnum = 1; total = 0\n",
    "    for i in range(2, 100):\n",
    "        tnums.append(tnum)\n",
    "        tnum += i\n",
    "    for word in words:\n",
    "        if char_score(word) in tnums: total += 1\n",
    "    print(total, \"\\n\")\n",
    "    \n",
    "pe_22()"
   ]
  },
  {
   "cell_type": "markdown",
   "id": "eee9619e-7a19-4ce6-865c-4b5cd53d4972",
   "metadata": {},
   "source": [
    "## 43 - Sub-string Divisibility"
   ]
  },
  {
   "cell_type": "code",
   "execution_count": 6,
   "id": "8df40e0e-41b9-4c52-9115-d3f0352b704a",
   "metadata": {},
   "outputs": [
    {
     "name": "stdout",
     "output_type": "stream",
     "text": [
      "16695334890 \n",
      "\n",
      "CPU times: user 4.18 s, sys: 7.84 ms, total: 4.19 s\n",
      "Wall time: 4.19 s\n"
     ]
    }
   ],
   "source": [
    "%%time\n",
    "divisors = [2, 3, 5, 7, 11, 13, 17]; total = 0\n",
    "def pe_43(remainingnums, permutednum):\n",
    "    \n",
    "    global total, divisors\n",
    "    if len(remainingnums) == 0:\n",
    "        num = int(permutednum)\n",
    "        good = True\n",
    "        for k in range(1, 8):\n",
    "            if int(str(num)[k:k+3])%divisors[k-1] != 0: good = False; break\n",
    "        if good: total += num\n",
    "    else:\n",
    "        for i in range(0, len(remainingnums)):\n",
    "            tmpnum = remainingnums[i]\n",
    "            remainingnums = remainingnums[:i] + remainingnums[i + 1:]\n",
    "            permutednum += tmpnum\n",
    "            pe_43(remainingnums, permutednum)\n",
    "            remainingnums = remainingnums[:i] + tmpnum + remainingnums[i:]\n",
    "            permutednum = permutednum[:len(permutednum)-1]\n",
    "            \n",
    "pe_43(\"0123456789\",\"\")\n",
    "print(total,\"\\n\")\n",
    "del total, divisors"
   ]
  },
  {
   "cell_type": "markdown",
   "id": "1a3b2ceb-0fff-43ca-a00f-20ea39254abd",
   "metadata": {},
   "source": [
    "## 44 - Pentagon Numbers"
   ]
  },
  {
   "cell_type": "code",
   "execution_count": 7,
   "id": "7d0f0b95-65e6-426f-a0cb-dc12f10485de",
   "metadata": {},
   "outputs": [],
   "source": [
    "def is_pent(n): \n",
    "    return (1+np.sqrt(1+24*n))%6==0"
   ]
  },
  {
   "cell_type": "code",
   "execution_count": 8,
   "id": "d605b7c6-c3f2-4c3d-af3d-d9d33abee4ae",
   "metadata": {},
   "outputs": [
    {
     "name": "stdout",
     "output_type": "stream",
     "text": [
      "5482660 \n",
      "\n",
      "CPU times: user 3.26 s, sys: 152 ms, total: 3.41 s\n",
      "Wall time: 3.41 s\n"
     ]
    }
   ],
   "source": [
    "%%time\n",
    "def pe_44():\n",
    "\n",
    "    ss = 10**7\n",
    "    p_nums = [ int((3*i*i - i) / 2) for i in range(1, ss)]\n",
    "    for i in range(2, ss):\n",
    "        for j in range(1, i):\n",
    "            if is_pent(p_nums[i] + p_nums[j]) and is_pent(p_nums[i] - p_nums[j]):\n",
    "                print(p_nums[i] - p_nums[j], \"\\n\"); return\n",
    "                \n",
    "pe_44()"
   ]
  },
  {
   "cell_type": "markdown",
   "id": "50766869-6d5f-423a-bfb7-48d742b466a7",
   "metadata": {},
   "source": [
    "## 45 - Triangular, Pentagonal, and Hexagonal"
   ]
  },
  {
   "cell_type": "code",
   "execution_count": 9,
   "id": "5f206598-1374-4d52-a4f4-32e4c6a0eee6",
   "metadata": {},
   "outputs": [
    {
     "name": "stdout",
     "output_type": "stream",
     "text": [
      "1533776805 \n",
      "\n",
      "CPU times: user 11.9 ms, sys: 0 ns, total: 11.9 ms\n",
      "Wall time: 11.5 ms\n"
     ]
    }
   ],
   "source": [
    "%%time\n",
    "def pe_45():\n",
    "\n",
    "    tria = lambda n : (n**2 + n)/2\n",
    "    pent = lambda n : (3 * n**2 - n)/2\n",
    "    hexa = lambda n : (2 * n**2 - n)\n",
    "    t_index = 285; p_index = 165; h_index = 143\n",
    "    t_num = p_num = h_num = 40755\n",
    "    while True:\n",
    "        t_index += 1\n",
    "        t_num = tria(t_index)\n",
    "        if t_num > p_num:\n",
    "            p_index += 1\n",
    "            p_num = pent(p_index)\n",
    "        if p_num > h_num:\n",
    "            h_index += 1\n",
    "            h_num = hexa(h_index)\n",
    "        if t_num == p_num and p_num == h_num:\n",
    "            print(int(t_num), \"\\n\")\n",
    "            break\n",
    "\n",
    "pe_45()"
   ]
  },
  {
   "cell_type": "markdown",
   "id": "0a72fdef-7960-423f-a91a-9f41eab8ef4e",
   "metadata": {},
   "source": [
    "## 46 - Goldbach's Other Conjecture"
   ]
  },
  {
   "cell_type": "code",
   "execution_count": 10,
   "id": "8d8ba61f-e89a-4d47-b15a-aa0a645beb6e",
   "metadata": {},
   "outputs": [
    {
     "name": "stdout",
     "output_type": "stream",
     "text": [
      "5777 \n",
      "\n",
      "CPU times: user 5.38 ms, sys: 30 μs, total: 5.41 ms\n",
      "Wall time: 5.32 ms\n"
     ]
    }
   ],
   "source": [
    "%%time\n",
    "def pe_46():\n",
    "\n",
    "    ss = 10**4\n",
    "    primes = prime_array(ss)\n",
    "    for i in range(3, ss, 2):\n",
    "        if primes[i]: continue\n",
    "        conjecture = False\n",
    "        for j in range(1, int(np.sqrt(i/2))+1):\n",
    "            if primes[i - 2*j**2]: conjecture = True; break\n",
    "        if not conjecture: print(i, \"\\n\"); break\n",
    "    \n",
    "pe_46()"
   ]
  },
  {
   "cell_type": "markdown",
   "id": "f12e5c70-bc2a-40be-98fb-c0346e8086cc",
   "metadata": {},
   "source": [
    "## 47 - Distinct Prime Factors"
   ]
  },
  {
   "cell_type": "code",
   "execution_count": 11,
   "id": "7f10cd36-57f5-4e10-9ff2-f73f3001be38",
   "metadata": {},
   "outputs": [
    {
     "name": "stdout",
     "output_type": "stream",
     "text": [
      "134043 \n",
      "\n",
      "CPU times: user 1.03 s, sys: 59.9 ms, total: 1.09 s\n",
      "Wall time: 1.09 s\n"
     ]
    }
   ],
   "source": [
    "%%time\n",
    "def pe_47():\n",
    "\n",
    "    primes = []; ss = 10**6\n",
    "    for i in range(1, ss+1): primes.append([1])\n",
    "    for k in range(2,ss):\n",
    "        if(primes[k][0]==1):\n",
    "            primes[k] = primes[k][1:]\n",
    "            j=2*k\n",
    "            while j<ss:\n",
    "                primes[j][0] = 0\n",
    "                primes[j].append(k)\n",
    "                j=j+k\n",
    "        else:\n",
    "            primes[k] = primes[k][1:]\n",
    "    streak = 0\n",
    "    for l in range(2, ss):\n",
    "        if len(primes[l]) != 4: streak = 0; continue\n",
    "        streak +=1\n",
    "        if streak == 4: print(l-3, \"\\n\"); break\n",
    "\n",
    "pe_47() "
   ]
  },
  {
   "cell_type": "markdown",
   "id": "83f399d6-5b87-47ac-a773-04e26cf536e0",
   "metadata": {},
   "source": [
    "## 48 - Self Powers"
   ]
  },
  {
   "cell_type": "code",
   "execution_count": 12,
   "id": "37b6c909-d643-44b2-8b4c-6d43242e1966",
   "metadata": {},
   "outputs": [
    {
     "name": "stdout",
     "output_type": "stream",
     "text": [
      "9110846700 \n",
      "\n",
      "CPU times: user 4.06 ms, sys: 0 ns, total: 4.06 ms\n",
      "Wall time: 4.07 ms\n"
     ]
    }
   ],
   "source": [
    "%%time\n",
    "def pe_48():\n",
    "\n",
    "    total = 0\n",
    "    for n in range(1, 1000): total += n**n\n",
    "    print(total%10**10, \"\\n\")\n",
    "\n",
    "pe_48()"
   ]
  },
  {
   "cell_type": "markdown",
   "id": "f93a2c45-fafe-45f6-adbf-beb36741d770",
   "metadata": {},
   "source": [
    "## 49 - Prime Permutations"
   ]
  },
  {
   "cell_type": "code",
   "execution_count": 13,
   "id": "ae7f03b8-bca6-4ae1-b66a-aecc0e43cacf",
   "metadata": {},
   "outputs": [],
   "source": [
    "def is_perm(a, b):\n",
    "    digits_a = np.sort(list(map(int, str(a))))\n",
    "    digits_b = np.sort(list(map(int, str(b))))\n",
    "    for i in range(0, len(digits_a)):\n",
    "        if digits_a[i] != digits_b[i]: return False\n",
    "    return True"
   ]
  },
  {
   "cell_type": "code",
   "execution_count": 14,
   "id": "1b866093-bf9a-40d6-a969-b205ba125686",
   "metadata": {},
   "outputs": [
    {
     "name": "stdout",
     "output_type": "stream",
     "text": [
      "296962999629 \n",
      "\n",
      "CPU times: user 807 ms, sys: 41 μs, total: 807 ms\n",
      "Wall time: 805 ms\n"
     ]
    }
   ],
   "source": [
    "%%time\n",
    "def pe_49():\n",
    "\n",
    "    l_bound = 10**3; u_bound = 10**4; primes = prime_array(10**4)\n",
    "    for i in range(l_bound, u_bound):\n",
    "        if primes[i]:\n",
    "            for j in range(i+1, u_bound):\n",
    "                if not primes[j] or not is_perm(i, j): continue\n",
    "                k = j+(j-i)\n",
    "                if k > u_bound: break\n",
    "                if primes[k] and is_perm(j, k) and i != 1487:\n",
    "                    digits = []; answer = 0\n",
    "                    for num in [i, j, k]: digits.extend(list(map(int, str(num))))\n",
    "                    for digit in digits: answer += digit; answer *= 10\n",
    "                    answer = int(answer/10)\n",
    "                    print(answer, \"\\n\")\n",
    "                    return\n",
    "    \n",
    "\n",
    "pe_49()"
   ]
  },
  {
   "cell_type": "markdown",
   "id": "08dce633-0d29-4db6-9217-d048b1277ac3",
   "metadata": {},
   "source": [
    "## 50 - Consecutive Prime Sum"
   ]
  },
  {
   "cell_type": "code",
   "execution_count": 15,
   "id": "e9174acd-0406-4ade-ad5a-d486c226a23e",
   "metadata": {},
   "outputs": [
    {
     "name": "stdout",
     "output_type": "stream",
     "text": [
      "997651 \n",
      "\n",
      "CPU times: user 370 ms, sys: 4.04 ms, total: 374 ms\n",
      "Wall time: 373 ms\n"
     ]
    }
   ],
   "source": [
    "%%time\n",
    "def pe_50():\n",
    "\n",
    "    u_bound = 10**6; prime_bool = prime_array(u_bound+1); prime_val = []; max_val = 0; max_len = 0\n",
    "    for i in range(2, u_bound): \n",
    "        if prime_bool[i]: prime_val.append(i)\n",
    "    for j in range(0, len(prime_val)):\n",
    "        sum_n = prime_val[j]\n",
    "        for k in range(j+1, len(prime_val)):\n",
    "            sum_n += prime_val[k]\n",
    "            if sum_n > u_bound: break\n",
    "            length = k - j + 1\n",
    "            if prime_bool[sum_n] and length > max_len: \n",
    "                max_len = length\n",
    "                max_val = sum_n\n",
    "    print(max_val, \"\\n\")\n",
    "        \n",
    "pe_50()"
   ]
  }
 ],
 "metadata": {
  "kernelspec": {
   "display_name": "Python 3 (ipykernel)",
   "language": "python",
   "name": "python3"
  },
  "language_info": {
   "codemirror_mode": {
    "name": "ipython",
    "version": 3
   },
   "file_extension": ".py",
   "mimetype": "text/x-python",
   "name": "python",
   "nbconvert_exporter": "python",
   "pygments_lexer": "ipython3",
   "version": "3.12.8"
  }
 },
 "nbformat": 4,
 "nbformat_minor": 5
}
