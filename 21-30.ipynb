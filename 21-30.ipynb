{
 "cells": [
  {
   "cell_type": "markdown",
   "id": "a1bb2a94-441e-418c-a3ec-ed364dd2752b",
   "metadata": {},
   "source": [
    "# Project Euler Solutions - Problems 21-30"
   ]
  },
  {
   "cell_type": "code",
   "execution_count": 1,
   "id": "2a10095a-5efd-476d-9baf-3478e2e6b388",
   "metadata": {},
   "outputs": [],
   "source": [
    "import numpy as np\n",
    "\n",
    "def prime_array(n):\n",
    "    primes = np.ones(n)\n",
    "    primes[1] = 0\n",
    "    for k in range(2,n):\n",
    "        if(primes[k]==1):\n",
    "            j=2*k\n",
    "            while j<n:\n",
    "                primes[j]=0\n",
    "                j=j+k\n",
    "    return primes"
   ]
  },
  {
   "cell_type": "markdown",
   "id": "d90c2240-7989-4a13-b6a0-e2743eeee8bf",
   "metadata": {},
   "source": [
    "## 21 - Amicable Numbers"
   ]
  },
  {
   "cell_type": "code",
   "execution_count": 2,
   "id": "ec5cc428-6255-4dcb-8b16-416780a2a5a3",
   "metadata": {},
   "outputs": [],
   "source": [
    "def sum_divisors(num):\n",
    "    d=0\n",
    "    for j in range(1, (num//2)+1):\n",
    "        if num%j == 0: d+=j\n",
    "    return int(d)"
   ]
  },
  {
   "cell_type": "code",
   "execution_count": 3,
   "id": "bde1c3b1-214c-422c-ab83-244caf6a3e4e",
   "metadata": {},
   "outputs": [
    {
     "name": "stdout",
     "output_type": "stream",
     "text": [
      "31626 \n",
      "\n",
      "CPU times: user 5.14 s, sys: 3.4 ms, total: 5.14 s\n",
      "Wall time: 5.14 s\n"
     ]
    }
   ],
   "source": [
    "%%time\n",
    "def pe_21():\n",
    "    \n",
    "    size = 10000; nums = []; sum_n=0\n",
    "    for i in range(0, size*3):\n",
    "        nums.append(sum_divisors(i))\n",
    "    for i in range(3, size):\n",
    "        temp = nums[i]\n",
    "        if nums[temp] == i and temp !=i: sum_n+=i;\n",
    "    print(sum_n, \"\\n\")\n",
    "    \n",
    "pe_21()"
   ]
  },
  {
   "cell_type": "code",
   "execution_count": 4,
   "id": "220474b7-6659-4dda-afdf-bf2290c691f4",
   "metadata": {},
   "outputs": [
    {
     "name": "stdout",
     "output_type": "stream",
     "text": [
      "31626 \n",
      "\n",
      "CPU times: user 913 ms, sys: 0 ns, total: 913 ms\n",
      "Wall time: 912 ms\n"
     ]
    }
   ],
   "source": [
    "%%time\n",
    "def pe_21_faster():\n",
    "    \n",
    "    size = 10000; nums = []\n",
    "    for i in range(0, size):\n",
    "        d_1 = sum_divisors(i)\n",
    "        if d_1 == i: continue\n",
    "        if i == sum_divisors(d_1): nums.append(i)\n",
    "    print(np.sum(np.unique(nums)), \"\\n\")\n",
    "    \n",
    "pe_21_faster()"
   ]
  },
  {
   "cell_type": "markdown",
   "id": "97fa20d0-6045-43d3-86c8-2edb09527288",
   "metadata": {},
   "source": [
    "## 22 - Names Scores"
   ]
  },
  {
   "cell_type": "code",
   "execution_count": 5,
   "id": "a03af510-21ed-4f71-b75a-a303f732b1c3",
   "metadata": {},
   "outputs": [],
   "source": [
    "def char_score(input_text):\n",
    "    score = 0\n",
    "    for i in range(0, len(input_text)):\n",
    "        score += ord(input_text[i])-64\n",
    "    return score"
   ]
  },
  {
   "cell_type": "code",
   "execution_count": 6,
   "id": "abbfc926-f390-41c5-82f1-ea94f7dac3c6",
   "metadata": {},
   "outputs": [
    {
     "name": "stdout",
     "output_type": "stream",
     "text": [
      "871198282 \n",
      "\n",
      "CPU times: user 5.65 ms, sys: 0 ns, total: 5.65 ms\n",
      "Wall time: 4.88 ms\n"
     ]
    }
   ],
   "source": [
    "%%time\n",
    "def pe_22():\n",
    "    \n",
    "    path = \"./inputs/p22_names.txt\"\n",
    "    with open(path, 'r') as file:\n",
    "        line = file.readline()\n",
    "    file.close()\n",
    "    names = line.split(',')\n",
    "    for i in range(0, len(names)):\n",
    "        names[i] = names[i][1:len(names[i])-1]\n",
    "    names = np.sort(names)\n",
    "    total = 0\n",
    "    for i in range(0, len(names)):\n",
    "        total += (i+1)*char_score(names[i])\n",
    "    print(total, \"\\n\")\n",
    "    \n",
    "pe_22()"
   ]
  },
  {
   "cell_type": "markdown",
   "id": "f2ba6b2f-f450-4d5e-881e-e80e978531d8",
   "metadata": {},
   "source": [
    "## 23 - Non-Abundant Sums"
   ]
  },
  {
   "cell_type": "code",
   "execution_count": 7,
   "id": "9504eab6-0c9a-4ce3-a486-5062eea67862",
   "metadata": {},
   "outputs": [],
   "source": [
    "def isabundant(num):\n",
    "    sum=0\n",
    "    for i in range(1, (num//2)+1):\n",
    "        if num%i == 0: sum += i\n",
    "    if sum <= num : return False\n",
    "    return True"
   ]
  },
  {
   "cell_type": "code",
   "execution_count": 8,
   "id": "fbc067c6-ecec-4f75-aa5e-8041fd290bd9",
   "metadata": {},
   "outputs": [
    {
     "name": "stdout",
     "output_type": "stream",
     "text": [
      "4179871 \n",
      "\n",
      "CPU times: user 6.25 s, sys: 0 ns, total: 6.25 s\n",
      "Wall time: 6.25 s\n"
     ]
    }
   ],
   "source": [
    "%%time\n",
    "def pe_23():\n",
    "    \n",
    "    size=28124; abnums=[]; issum=np.zeros(size); sum_n=0\n",
    "    for i in range(1, size):\n",
    "        if(isabundant(i)):\n",
    "            abnums.append(i)\n",
    "    for i in range(0, len(abnums)):\n",
    "        for j in range(i, len(abnums)):\n",
    "            if(abnums[i]+abnums[j] < size):\n",
    "                issum[abnums[i]+abnums[j]] = 1\n",
    "    for i in range(1, size):\n",
    "        if issum[i] == 0: sum_n += i\n",
    "    print(sum_n, \"\\n\")\n",
    "    \n",
    "pe_23()"
   ]
  },
  {
   "cell_type": "code",
   "execution_count": 9,
   "id": "cdf450ff-ef63-4eee-9a55-359556814d1a",
   "metadata": {},
   "outputs": [
    {
     "name": "stdout",
     "output_type": "stream",
     "text": [
      "4179871 \n",
      "\n",
      "CPU times: user 6.08 s, sys: 0 ns, total: 6.08 s\n",
      "Wall time: 6.08 s\n"
     ]
    }
   ],
   "source": [
    "%%time\n",
    "def pe_23_alternate():\n",
    "    \n",
    "    size = 28124; abnums = np.zeros(size); sum_n=0\n",
    "    for i in range(1, size):\n",
    "        if(isabundant(i)): abnums[i]=1\n",
    "    for i in range(1, size):\n",
    "        flag = 0\n",
    "        for j in range(1, i//2 + 1):\n",
    "            if abnums[j] and abnums[i-j]:\n",
    "                flag = 1\n",
    "                break\n",
    "        if flag == 0: sum_n += i\n",
    "    print(sum_n, \"\\n\")\n",
    "    \n",
    "pe_23_alternate()"
   ]
  },
  {
   "cell_type": "markdown",
   "id": "3f795c79-4cb1-413a-9296-b850618c9841",
   "metadata": {},
   "source": [
    "## 24 - Lexicographic Permutations"
   ]
  },
  {
   "cell_type": "code",
   "execution_count": 10,
   "id": "a1d777a9-36ce-467e-87e7-36f4910509f4",
   "metadata": {},
   "outputs": [
    {
     "name": "stdout",
     "output_type": "stream",
     "text": [
      "2783915460 \n",
      "\n",
      "CPU times: user 781 ms, sys: 0 ns, total: 781 ms\n",
      "Wall time: 781 ms\n"
     ]
    }
   ],
   "source": [
    "%%time\n",
    "num=1\n",
    "flag=0\n",
    "def pe_24(remainingnums, permutednum):\n",
    "    \n",
    "    global num, flag\n",
    "    if flag == 1: return\n",
    "    if len(remainingnums) == 0:\n",
    "        if num == 1000000:\n",
    "            flag=1\n",
    "            print(permutednum, \"\\n\")\n",
    "            return 0\n",
    "        num += 1;\n",
    "    else:\n",
    "        for i in range(0, len(remainingnums)):\n",
    "            tmpnum = remainingnums[i]\n",
    "            remainingnums = remainingnums[:i] + remainingnums[i + 1:]\n",
    "            permutednum += tmpnum\n",
    "            pe_24(remainingnums, permutednum)\n",
    "            remainingnums = remainingnums[:i] + tmpnum + remainingnums[i:]\n",
    "            permutednum = permutednum[:len(permutednum)-1]\n",
    "            \n",
    "pe_24(\"0123456789\",\"\")\n",
    "del num, flag"
   ]
  },
  {
   "cell_type": "markdown",
   "id": "21c8f73d-b44e-4017-ae66-9b93bb64d160",
   "metadata": {},
   "source": [
    "## 25 - 1000-digit Fibonacci Number"
   ]
  },
  {
   "cell_type": "code",
   "execution_count": 11,
   "id": "cf9f7612-5f66-4166-a134-b4656c49367d",
   "metadata": {},
   "outputs": [
    {
     "name": "stdout",
     "output_type": "stream",
     "text": [
      "4782 \n",
      "\n",
      "CPU times: user 359 μs, sys: 0 ns, total: 359 μs\n",
      "Wall time: 360 μs\n"
     ]
    }
   ],
   "source": [
    "%%time\n",
    "def pe_25():\n",
    "    \n",
    "    curr=1; prev=1; temp=1; index=2; u_bound = 10**999\n",
    "    while(curr<u_bound):\n",
    "        temp=curr\n",
    "        curr+=prev\n",
    "        prev=temp\n",
    "        index += 1\n",
    "    print(index, \"\\n\")\n",
    "    \n",
    "pe_25()"
   ]
  },
  {
   "cell_type": "markdown",
   "id": "9b498686-8e13-4e52-a88d-9d4ca55f30a8",
   "metadata": {},
   "source": [
    "## 26 - Reciprocal Cycles"
   ]
  },
  {
   "cell_type": "code",
   "execution_count": 12,
   "id": "565ec062-a350-46eb-a77e-b67d2fbb9405",
   "metadata": {},
   "outputs": [],
   "source": [
    "def cycle_length(p):\n",
    "    if p % 5 == 0 or p % 2 == 0: return 0\n",
    "    n = 1\n",
    "    while True:\n",
    "        if 10**n % p == 1: return n\n",
    "        n+=1"
   ]
  },
  {
   "cell_type": "code",
   "execution_count": 13,
   "id": "a4a770bb-2b36-40e2-bb1c-d9cf651cfc2f",
   "metadata": {},
   "outputs": [
    {
     "name": "stdout",
     "output_type": "stream",
     "text": [
      "983 \n",
      "\n",
      "CPU times: user 73.4 ms, sys: 8 μs, total: 73.4 ms\n",
      "Wall time: 71.5 ms\n"
     ]
    }
   ],
   "source": [
    "%%time\n",
    "def pe_26():\n",
    "    \n",
    "    max_cycle = 0\n",
    "    max_cycle_denom = 0\n",
    "    for i in range(2, 1000):\n",
    "        curr_cycle = cycle_length(i)\n",
    "        if curr_cycle>max_cycle:\n",
    "            max_cycle = curr_cycle\n",
    "            max_cycle_denom = i\n",
    "    print(max_cycle_denom, \"\\n\")\n",
    "    \n",
    "pe_26()"
   ]
  },
  {
   "cell_type": "markdown",
   "id": "00a862f5-2886-4550-8f57-a0a4971f73c2",
   "metadata": {},
   "source": [
    "## 27 - \tQuadratic Primes"
   ]
  },
  {
   "cell_type": "code",
   "execution_count": 14,
   "id": "21ec1159-9a37-4ca0-878f-8bcf72aaa7dd",
   "metadata": {},
   "outputs": [
    {
     "name": "stdout",
     "output_type": "stream",
     "text": [
      "-59231 \n",
      "\n",
      "CPU times: user 616 ms, sys: 0 ns, total: 616 ms\n",
      "Wall time: 615 ms\n"
     ]
    }
   ],
   "source": [
    "%%time\n",
    "def pe_27():\n",
    "    \n",
    "    max_product=0\n",
    "    max_primes=0\n",
    "    primes = prime_array(10**5)\n",
    "    x = lambda a, b, n : (n**2) + (a*n) + b\n",
    "    for a in range(-1000, 1000):\n",
    "        for b in range(-1000, 1000):\n",
    "            n=0\n",
    "            curr_primes=0\n",
    "            while(True):\n",
    "                    if(primes[x(a, b, n)]):\n",
    "                        curr_primes +=1\n",
    "                        n+=1\n",
    "                    else:\n",
    "                        break\n",
    "            if curr_primes > max_primes:\n",
    "                max_primes = curr_primes\n",
    "                max_product = a*b\n",
    "    print(max_product, \"\\n\")\n",
    "    \n",
    "pe_27()"
   ]
  },
  {
   "cell_type": "markdown",
   "id": "0ea0dbed-24a3-4405-8b5f-92c3839ce048",
   "metadata": {},
   "source": [
    "## 28 - \tNumber Spiral Diagonals"
   ]
  },
  {
   "cell_type": "code",
   "execution_count": 15,
   "id": "abdeac00-52ae-42f1-9884-8cfbaed93134",
   "metadata": {},
   "outputs": [
    {
     "name": "stdout",
     "output_type": "stream",
     "text": [
      "669171001 \n",
      "\n",
      "CPU times: user 81 ms, sys: 5 μs, total: 81 ms\n",
      "Wall time: 80.5 ms\n"
     ]
    }
   ],
   "source": [
    "%%time\n",
    "def pe_28():\n",
    "    \n",
    "    d_sum = 1; n = 2; x=1; y=0; ring=1\n",
    "    while(True):\n",
    "        if(abs(x)==ring and abs(y)==ring):\n",
    "            d_sum+=n\n",
    "        if(x==ring):\n",
    "            if(y==ring):\n",
    "                x+=1\n",
    "                ring+=1\n",
    "                n+=1\n",
    "                if(ring==501):\n",
    "                    break\n",
    "                continue\n",
    "            elif(y==-ring):\n",
    "                x-=1\n",
    "                n+=1\n",
    "                continue\n",
    "            else:\n",
    "                y-=1\n",
    "                n+=1\n",
    "                continue\n",
    "        elif(y==-ring):\n",
    "            if(x==-ring):\n",
    "                y+=1\n",
    "                n+=1\n",
    "                continue\n",
    "            else:\n",
    "                x-=1\n",
    "                n+=1\n",
    "                continue\n",
    "        elif(x==-ring):\n",
    "            if(y==ring):\n",
    "                x+=1\n",
    "                n+=1\n",
    "                continue\n",
    "            else:\n",
    "                y+=1\n",
    "                n+=1\n",
    "                continue\n",
    "        elif(y==ring and x!=ring):\n",
    "            x+=1\n",
    "            n+=1\n",
    "            continue\n",
    "    print(d_sum, \"\\n\")\n",
    "    \n",
    "pe_28()"
   ]
  },
  {
   "cell_type": "markdown",
   "id": "d4515108-a607-43ae-a029-e74e17e4deff",
   "metadata": {},
   "source": [
    "## 29 - Distinct Powers"
   ]
  },
  {
   "cell_type": "code",
   "execution_count": 16,
   "id": "0e442f89-9cc2-4e66-8249-fc452386d70f",
   "metadata": {},
   "outputs": [
    {
     "name": "stdout",
     "output_type": "stream",
     "text": [
      "9183 \n",
      "\n",
      "CPU times: user 5.76 ms, sys: 10 μs, total: 5.77 ms\n",
      "Wall time: 5.62 ms\n"
     ]
    }
   ],
   "source": [
    "%%time\n",
    "def pe_29():\n",
    "    \n",
    "    x=[]\n",
    "    for a in range(2,101): \n",
    "        for b in range(2,101): x.append(a**b)\n",
    "    print(len(np.unique(x)), \"\\n\")\n",
    "    \n",
    "pe_29()"
   ]
  },
  {
   "cell_type": "markdown",
   "id": "f6e019a7-0040-4e4a-bbd8-6878a3e49e90",
   "metadata": {},
   "source": [
    "## 30 - Digit Fifth Powers"
   ]
  },
  {
   "cell_type": "code",
   "execution_count": 17,
   "id": "4d3c33a0-94f3-4f1f-bc05-a232f855d98f",
   "metadata": {},
   "outputs": [
    {
     "name": "stdout",
     "output_type": "stream",
     "text": [
      "443839 \n",
      "\n",
      "CPU times: user 758 ms, sys: 0 ns, total: 758 ms\n",
      "Wall time: 757 ms\n"
     ]
    }
   ],
   "source": [
    "%%time\n",
    "def pe_30():\n",
    "    \n",
    "    sum_n=0\n",
    "    for num in range(10,999999):\n",
    "        total=0; mult=100000; temp = num\n",
    "        while(mult>1):\n",
    "            total+=(temp//mult)**5\n",
    "            temp-=(temp//mult)*mult\n",
    "            mult/=10\n",
    "        total+=temp**5\n",
    "        if total==num:\n",
    "            sum_n+=num\n",
    "    print(sum_n, \"\\n\")\n",
    "    \n",
    "pe_30()"
   ]
  }
 ],
 "metadata": {
  "kernelspec": {
   "display_name": "Python 3 (ipykernel)",
   "language": "python",
   "name": "python3"
  },
  "language_info": {
   "codemirror_mode": {
    "name": "ipython",
    "version": 3
   },
   "file_extension": ".py",
   "mimetype": "text/x-python",
   "name": "python",
   "nbconvert_exporter": "python",
   "pygments_lexer": "ipython3",
   "version": "3.12.8"
  }
 },
 "nbformat": 4,
 "nbformat_minor": 5
}
