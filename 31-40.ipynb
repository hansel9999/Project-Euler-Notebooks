{
 "cells": [
  {
   "cell_type": "markdown",
   "id": "b708e397-392c-49da-99d7-a7de206d7049",
   "metadata": {},
   "source": [
    "# Project Euler Solutions - Problems 31-40"
   ]
  },
  {
   "cell_type": "code",
   "execution_count": 1,
   "id": "96af0b9e-d554-4c1b-98a2-635f4fa56c9a",
   "metadata": {},
   "outputs": [],
   "source": [
    "import numpy as np\n",
    "\n",
    "def prime_array(n):\n",
    "    primes = np.ones(n)\n",
    "    primes[1] = 0\n",
    "    for k in range(2,n):\n",
    "        if(primes[k]==1):\n",
    "            j=2*k\n",
    "            while j<n:\n",
    "                primes[j]=0\n",
    "                j=j+k\n",
    "    return primes"
   ]
  },
  {
   "cell_type": "markdown",
   "id": "17af40ed-8a3d-4405-8dc5-d4425b83acbd",
   "metadata": {},
   "source": [
    "## 31 - Coin Sums"
   ]
  },
  {
   "cell_type": "code",
   "execution_count": 2,
   "id": "abd11e5c-80cc-4567-b868-45ea4708dd8b",
   "metadata": {},
   "outputs": [
    {
     "name": "stdout",
     "output_type": "stream",
     "text": [
      "73682 \n",
      "\n",
      "CPU times: user 1.16 s, sys: 4.1 ms, total: 1.17 s\n",
      "Wall time: 1.16 s\n"
     ]
    }
   ],
   "source": [
    "%%time\n",
    "def pe_31():\n",
    "    \n",
    "    num_ways = 0\n",
    "    for o in range(0, 201):\n",
    "        for t in range(0,101):\n",
    "            for f in range(0,41):\n",
    "                if(o +(2*t)+(5*f)>200):\n",
    "                    break\n",
    "                for te in range(0,21):\n",
    "                    if(o +(2*t)+(5*f)+(10*te)>200):\n",
    "                        break\n",
    "                    for tw in range(0,11):\n",
    "                        if(o +(2*t)+(5*f)+(10*te)+(20*tw)>200):\n",
    "                            break\n",
    "                        for fi in range(0,5):\n",
    "                            if(o +(2*t)+(5*f)+(10*te)+(20*tw)+(50*fi)>200):\n",
    "                                break\n",
    "                            for p in range(0,3):\n",
    "                                total = o + (t*2) + (f*5) + (te * 10) + (tw*20)+(fi*50)+(p*100)\n",
    "                                if(total == 200):\n",
    "                                    num_ways +=1\n",
    "    num_ways += 1\n",
    "    print(num_ways, \"\\n\")\n",
    "    \n",
    "pe_31()"
   ]
  },
  {
   "cell_type": "markdown",
   "id": "12bc75cc-1280-4f6b-b277-e723faf11f4a",
   "metadata": {},
   "source": [
    "## 32 - Pandigital Products"
   ]
  },
  {
   "cell_type": "code",
   "execution_count": 3,
   "id": "f5d03270-3bfa-4cfb-b891-465e521ed02a",
   "metadata": {},
   "outputs": [
    {
     "name": "stdout",
     "output_type": "stream",
     "text": [
      "45228 \n",
      "\n",
      "CPU times: user 104 ms, sys: 3.87 ms, total: 108 ms\n",
      "Wall time: 107 ms\n"
     ]
    }
   ],
   "source": [
    "%%time\n",
    "def pe_32():\n",
    "\n",
    "    products = []\n",
    "    for i in range(1, 2000):\n",
    "        for j in range(i, 2000):\n",
    "            x=[]\n",
    "            x.extend(list(map(int, str(i))))\n",
    "            x.extend(list(map(int, str(j))))\n",
    "            x.extend(list(map(int, str(i*j))))\n",
    "            if len(x) > 9: break\n",
    "            if 0 in x: continue  \n",
    "            x = np.unique(x)\n",
    "            if len(x) == 9: products.append(i*j)\n",
    "    print(np.sum(np.unique(products)), \"\\n\")\n",
    "\n",
    "pe_32()"
   ]
  },
  {
   "cell_type": "markdown",
   "id": "8dbb47c7-9b61-448f-8c08-3cd92c8887c5",
   "metadata": {},
   "source": [
    "## 33 - Digit Cancelling Fractions"
   ]
  },
  {
   "cell_type": "code",
   "execution_count": 4,
   "id": "6683b3e6-d77d-4c1c-8abb-2f7fd90a1f18",
   "metadata": {},
   "outputs": [
    {
     "name": "stdout",
     "output_type": "stream",
     "text": [
      "100 \n",
      "\n",
      "CPU times: user 2.91 ms, sys: 0 ns, total: 2.91 ms\n",
      "Wall time: 2.92 ms\n"
     ]
    }
   ],
   "source": [
    "%%time\n",
    "def pe_33():\n",
    "\n",
    "    product = 0; den_array = []; num_array = []\n",
    "    for den in range(11, 100):\n",
    "        for num in range(10,den):\n",
    "            if num%10 == 0: continue\n",
    "            den_digits = list(map(int, str(den)))\n",
    "            num_digits = list(map(int, str(num)))\n",
    "            for i in range(0,2):\n",
    "                if len(den_digits) == 1: break\n",
    "                for j in range(0,2):\n",
    "                    if den_digits[i] == num_digits[j]:\n",
    "                        den_digits.pop(i)\n",
    "                        num_digits.pop(j)\n",
    "                        break\n",
    "            if len(den_digits) == 2: continue\n",
    "            if den_digits and num_digits:    \n",
    "                new_den = den_digits[0]\n",
    "                new_num = num_digits[0]\n",
    "                if new_num != 0 and new_den != 0 and num/new_num == den/new_den:\n",
    "                    den_array.append(new_den); num_array.append(new_num)        \n",
    "    final_den = np.prod(den_array); final_num = np.prod(num_array)\n",
    "    for i in range(2, final_den):\n",
    "        while final_den%i == 0 and final_num%i == 0:\n",
    "            final_den /= i; final_num /= i\n",
    "    print(int(final_den), \"\\n\")\n",
    "\n",
    "pe_33()"
   ]
  },
  {
   "cell_type": "markdown",
   "id": "59674058-a0b4-4484-acbb-b1de89fea9dd",
   "metadata": {},
   "source": [
    "## 34 - Digit Factorials"
   ]
  },
  {
   "cell_type": "code",
   "execution_count": 5,
   "id": "76a36b75-6cb0-4f85-9c93-6535473387ae",
   "metadata": {},
   "outputs": [],
   "source": [
    "def factorial(n):\n",
    "    if n == 1 or n == 0: return 1\n",
    "    return n * factorial(n-1)"
   ]
  },
  {
   "cell_type": "code",
   "execution_count": 6,
   "id": "6a54abe3-62bc-4837-be99-dc4da5ebe4a8",
   "metadata": {},
   "outputs": [
    {
     "name": "stdout",
     "output_type": "stream",
     "text": [
      "40730 \n",
      "\n",
      "CPU times: user 163 ms, sys: 7.81 ms, total: 171 ms\n",
      "Wall time: 169 ms\n"
     ]
    }
   ],
   "source": [
    "%%time\n",
    "def pe_34():\n",
    "\n",
    "    sum_n = 0\n",
    "    for i in range(3, 100000):\n",
    "        digits = list(map(int, str(i)))\n",
    "        total = 0\n",
    "        for d in digits: total += factorial(d)\n",
    "        if total == i: sum_n += i\n",
    "    print(sum_n, \"\\n\")\n",
    "\n",
    "pe_34()"
   ]
  },
  {
   "cell_type": "markdown",
   "id": "f767c57b-e904-480a-b47c-74a9cfce4719",
   "metadata": {},
   "source": [
    "## 35 - Circular Primes"
   ]
  },
  {
   "cell_type": "code",
   "execution_count": 7,
   "id": "24051f45-a0db-4c3e-851b-fdafa7acd2c1",
   "metadata": {},
   "outputs": [
    {
     "name": "stdout",
     "output_type": "stream",
     "text": [
      "55 \n",
      "\n",
      "CPU times: user 389 ms, sys: 118 μs, total: 389 ms\n",
      "Wall time: 388 ms\n"
     ]
    }
   ],
   "source": [
    "%%time\n",
    "def pe_35():\n",
    "\n",
    "    primes = prime_array(10**6); count = 0\n",
    "    for i in range(2, 10**6):\n",
    "        circular = True\n",
    "        if primes[i]:\n",
    "            digits = list(map(int, str(i)))\n",
    "            k = len(digits)\n",
    "            for j in range(0, k):\n",
    "                digits = digits[k-1:] + digits[:k-1]\n",
    "                new_num = 0\n",
    "                for digit in digits: new_num = new_num * 10 + digit\n",
    "                if not primes[new_num]: circular = False; break\n",
    "            if circular: count += 1\n",
    "    print(count, \"\\n\")\n",
    "    \n",
    "pe_35()        "
   ]
  },
  {
   "cell_type": "markdown",
   "id": "0deb4c46-6923-4e9e-b573-7f88e3104750",
   "metadata": {},
   "source": [
    "## 36 - Double-base Palindromes"
   ]
  },
  {
   "cell_type": "code",
   "execution_count": 8,
   "id": "f65d97c0-ea37-4ac4-bb5d-a627fb1b1d09",
   "metadata": {},
   "outputs": [],
   "source": [
    "def is_palindrome(n):\n",
    "    temp = n; reverse = 0\n",
    "    while(n):\n",
    "        reverse += n%10\n",
    "        n = n//10\n",
    "        if n==0: break\n",
    "        reverse *= 10\n",
    "    return temp == reverse"
   ]
  },
  {
   "cell_type": "code",
   "execution_count": 9,
   "id": "ec990cfe-ab5e-4ef1-827c-d18fcdb23f7b",
   "metadata": {},
   "outputs": [
    {
     "name": "stdout",
     "output_type": "stream",
     "text": [
      "872187 \n",
      "\n",
      "CPU times: user 328 ms, sys: 7.2 ms, total: 335 ms\n",
      "Wall time: 334 ms\n"
     ]
    }
   ],
   "source": [
    "%%time\n",
    "def pe_36():\n",
    "\n",
    "    sum_n = 0\n",
    "    for i in range(1, 10**6):\n",
    "        if is_palindrome(i) and is_palindrome(int(bin(i)[2:])): sum_n += i\n",
    "    print(sum_n, \"\\n\")\n",
    "\n",
    "pe_36()"
   ]
  },
  {
   "cell_type": "markdown",
   "id": "531fcc9f-06c7-43fe-9467-13b017b63551",
   "metadata": {},
   "source": [
    "## 37 - Truncatable Primes"
   ]
  },
  {
   "cell_type": "code",
   "execution_count": 10,
   "id": "6e25031f-503e-477e-9183-abafd71cdd68",
   "metadata": {},
   "outputs": [
    {
     "name": "stdout",
     "output_type": "stream",
     "text": [
      "748317 \n",
      "\n",
      "CPU times: user 369 ms, sys: 3.85 ms, total: 373 ms\n",
      "Wall time: 372 ms\n"
     ]
    }
   ],
   "source": [
    "%%time\n",
    "def pe_37():\n",
    "\n",
    "    primes = prime_array(10**6); sum = 0\n",
    "    for i in range(10, 10**6):\n",
    "        trunc = True\n",
    "        if primes[i]:\n",
    "            temp = i\n",
    "            while temp:\n",
    "                temp = int(np.floor(temp/10))\n",
    "                if not primes[temp]: trunc = False; break\n",
    "            if not trunc: continue\n",
    "            temp = i\n",
    "            for j in range(int(np.ceil(np.log(i))), 0, -1):\n",
    "                temp = temp % 10**j\n",
    "                if not primes[temp]: trunc = False; break\n",
    "            if trunc: sum += i\n",
    "    print(sum, \"\\n\")\n",
    "    \n",
    "pe_37()    "
   ]
  },
  {
   "cell_type": "markdown",
   "id": "ad0e992b-3fcd-43f5-8941-b25e8803a249",
   "metadata": {},
   "source": [
    "## 38 - Pandigital Multiples"
   ]
  },
  {
   "cell_type": "code",
   "execution_count": 11,
   "id": "ef7c79cc-130e-4e3f-9841-f65d1e76b1db",
   "metadata": {},
   "outputs": [
    {
     "name": "stdout",
     "output_type": "stream",
     "text": [
      "932718654 \n",
      "\n",
      "CPU times: user 113 ms, sys: 4.15 ms, total: 117 ms\n",
      "Wall time: 110 ms\n"
     ]
    }
   ],
   "source": [
    "%%time\n",
    "def pe_38():\n",
    "\n",
    "    largest = 0\n",
    "    for i in range(0, 10000):\n",
    "        for n in range(1, 10):\n",
    "            x = []\n",
    "            for k in range(1, n):\n",
    "                x.extend(list(map(int, str(i*k))))\n",
    "            if len(x) > 9: break\n",
    "            if not 0 in x and len(np.unique(x)) == 9:\n",
    "                num = 0\n",
    "                for digit in x: num = num * 10 + digit\n",
    "                if num > largest: largest = num\n",
    "    print(largest, \"\\n\")\n",
    "\n",
    "pe_38()"
   ]
  },
  {
   "cell_type": "markdown",
   "id": "917049c7-bbf3-46b7-9d1f-2d0b049def07",
   "metadata": {},
   "source": [
    "## 39 - Integer Right Triangles"
   ]
  },
  {
   "cell_type": "code",
   "execution_count": 12,
   "id": "d9f5b2dc-2ca9-459f-a0d3-dda1002a60fd",
   "metadata": {},
   "outputs": [
    {
     "name": "stdout",
     "output_type": "stream",
     "text": [
      "840 \n",
      "\n",
      "CPU times: user 320 ms, sys: 53 μs, total: 320 ms\n",
      "Wall time: 319 ms\n"
     ]
    }
   ],
   "source": [
    "%%time\n",
    "def pe_39():\n",
    "\n",
    "    leaderboard = np.zeros(1001);\n",
    "    for a in range(1, 1001):\n",
    "        for b in range(a+1, 1001):\n",
    "            c = np.sqrt(a**2 + b**2)\n",
    "            if c != int(c): continue\n",
    "            p = int(a + b + c)\n",
    "            if p > 1000: break\n",
    "            leaderboard[p] += 1\n",
    "    max_val = 0; max_index = 0\n",
    "    for i in range(0, 1001):\n",
    "        if leaderboard[i] > max_val:\n",
    "            max_val = leaderboard[i]\n",
    "            max_index = i\n",
    "    print(max_index, \"\\n\")\n",
    "    \n",
    "pe_39()        "
   ]
  },
  {
   "cell_type": "markdown",
   "id": "ef7decbc-b1a9-4409-8816-345538e18f12",
   "metadata": {},
   "source": [
    "## 40 - Champernowne's Constant"
   ]
  },
  {
   "cell_type": "code",
   "execution_count": 13,
   "id": "3c985514-aaaf-4f8f-a2e0-5b688d7790b2",
   "metadata": {},
   "outputs": [
    {
     "name": "stdout",
     "output_type": "stream",
     "text": [
      "210 \n",
      "\n",
      "CPU times: user 719 ms, sys: 183 μs, total: 719 ms\n",
      "Wall time: 718 ms\n"
     ]
    }
   ],
   "source": [
    "%%time\n",
    "def pe_40():\n",
    "\n",
    "    targets = [10**n for n in range(0, 7)]\n",
    "    index = 0; product = 1\n",
    "    for i in range(1, 10**6):\n",
    "        digits = list(map(int, str(i)))\n",
    "        for digit in digits:\n",
    "            index += 1\n",
    "            if index in targets: \n",
    "                product *= digit\n",
    "    print(product, \"\\n\")\n",
    "\n",
    "pe_40()        "
   ]
  }
 ],
 "metadata": {
  "kernelspec": {
   "display_name": "Python 3 (ipykernel)",
   "language": "python",
   "name": "python3"
  },
  "language_info": {
   "codemirror_mode": {
    "name": "ipython",
    "version": 3
   },
   "file_extension": ".py",
   "mimetype": "text/x-python",
   "name": "python",
   "nbconvert_exporter": "python",
   "pygments_lexer": "ipython3",
   "version": "3.12.8"
  }
 },
 "nbformat": 4,
 "nbformat_minor": 5
}
