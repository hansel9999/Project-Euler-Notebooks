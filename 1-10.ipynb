{
 "cells": [
  {
   "cell_type": "markdown",
   "id": "632c9b62-0b73-412b-b051-75f569d87624",
   "metadata": {},
   "source": [
    "# Project Euler Solutions - Problems 1-10"
   ]
  },
  {
   "cell_type": "code",
   "execution_count": 1,
   "id": "e310c7bb",
   "metadata": {},
   "outputs": [],
   "source": [
    "import numpy as np\n",
    "\n",
    "def prime_array(n):\n",
    "    primes = np.ones(n)\n",
    "    primes[1] = 0\n",
    "    for k in range(2,n):\n",
    "        if(primes[k]==1):\n",
    "            j=2*k\n",
    "            while j<n:\n",
    "                primes[j]=0\n",
    "                j=j+k\n",
    "    return primes"
   ]
  },
  {
   "cell_type": "markdown",
   "id": "f6855197-ca18-43f5-981b-ef7911047a69",
   "metadata": {},
   "source": [
    "## 1 - \tMultiples of 3 or 5"
   ]
  },
  {
   "cell_type": "code",
   "execution_count": 2,
   "id": "5d69c533-0def-418a-962c-922bc6f5bd11",
   "metadata": {},
   "outputs": [
    {
     "name": "stdout",
     "output_type": "stream",
     "text": [
      "233168 \n",
      "\n",
      "CPU times: user 91 μs, sys: 8 μs, total: 99 μs\n",
      "Wall time: 107 μs\n"
     ]
    }
   ],
   "source": [
    "%%time\n",
    "def pe_1():\n",
    "\n",
    "    sum_n = 0\n",
    "    for i in range(1, 1000): \n",
    "        if i%3 == 0 or i%5 == 0: sum_n+=i\n",
    "    print(sum_n, \"\\n\")\n",
    "    \n",
    "pe_1()"
   ]
  },
  {
   "cell_type": "markdown",
   "id": "70149146-b7fe-4bb5-9820-a80c13a3c624",
   "metadata": {},
   "source": [
    "## 2 - \tEven Fibonacci Numbers"
   ]
  },
  {
   "cell_type": "code",
   "execution_count": 3,
   "id": "08df3c3d-3f06-43ae-8657-c0755ce20782",
   "metadata": {},
   "outputs": [
    {
     "name": "stdout",
     "output_type": "stream",
     "text": [
      "4613732 \n",
      "\n",
      "CPU times: user 59 μs, sys: 0 ns, total: 59 μs\n",
      "Wall time: 58.7 μs\n"
     ]
    }
   ],
   "source": [
    "%%time\n",
    "def pe_2():\n",
    "\n",
    "    prev = 1; curr = 1; sum_n = 0\n",
    "    while curr < 4*(10**6):\n",
    "        if curr%2 == 0: sum_n += curr\n",
    "        temp = curr\n",
    "        curr += prev\n",
    "        prev = temp\n",
    "    print(sum_n, \"\\n\")\n",
    "    \n",
    "pe_2()"
   ]
  },
  {
   "cell_type": "markdown",
   "id": "6a497975-cd91-41b0-ac01-7d300e497ce4",
   "metadata": {},
   "source": [
    "## 3 - \tLargest Prime Factor"
   ]
  },
  {
   "cell_type": "code",
   "execution_count": 4,
   "id": "45d6363e-1266-4e23-bfa6-560194d1bd73",
   "metadata": {},
   "outputs": [
    {
     "name": "stdout",
     "output_type": "stream",
     "text": [
      "6857 \n",
      "\n",
      "CPU times: user 244 ms, sys: 7.81 ms, total: 251 ms\n",
      "Wall time: 248 ms\n"
     ]
    }
   ],
   "source": [
    "%%time\n",
    "def pe_3():\n",
    "\n",
    "    num = 600851475143\n",
    "    search_ubound = int(np.floor(np.sqrt(num))) + 1\n",
    "    primes = prime_array(search_ubound)\n",
    "    for i in range(search_ubound, 1, -1):\n",
    "        if num%i == 0 and primes[i]:print(i, \"\\n\"); break \n",
    "    \n",
    "pe_3()"
   ]
  },
  {
   "cell_type": "markdown",
   "id": "b73eacef-fb13-46f7-b6f6-ba6176a7e1e9",
   "metadata": {},
   "source": [
    "## 4 - \tLargest Palindrome Product"
   ]
  },
  {
   "cell_type": "code",
   "execution_count": 5,
   "id": "b651632a-a248-4f23-857c-d08a08e065c3",
   "metadata": {},
   "outputs": [],
   "source": [
    "def is_palindrome(n):\n",
    "    temp = n; reverse = 0\n",
    "    while(n):\n",
    "        reverse += n%10\n",
    "        n = n//10\n",
    "        if n==0: break\n",
    "        reverse *= 10\n",
    "    return temp == reverse"
   ]
  },
  {
   "cell_type": "code",
   "execution_count": 6,
   "id": "86dc8ab5-70c0-401c-bbab-af2538eeb817",
   "metadata": {},
   "outputs": [
    {
     "name": "stdout",
     "output_type": "stream",
     "text": [
      "906609 \n",
      "\n",
      "CPU times: user 13.9 ms, sys: 135 μs, total: 14 ms\n",
      "Wall time: 13.7 ms\n"
     ]
    }
   ],
   "source": [
    "%%time\n",
    "def pe_4():\n",
    "    \n",
    "    u_bound = 999; l_bound=100; max=0\n",
    "    for i in range(u_bound, l_bound, -1):\n",
    "        for j in range(u_bound, i, -1):\n",
    "            if i*j > max and is_palindrome(i*j): max = i*j\n",
    "    print(max, \"\\n\")\n",
    "    \n",
    "pe_4()"
   ]
  },
  {
   "cell_type": "markdown",
   "id": "efb27325-985d-4689-bada-9048ff0a1003",
   "metadata": {},
   "source": [
    "## 5 - Smallest Multiple"
   ]
  },
  {
   "cell_type": "code",
   "execution_count": 7,
   "id": "b2c14512-6c79-4289-8239-21d8495eda47",
   "metadata": {},
   "outputs": [
    {
     "name": "stdout",
     "output_type": "stream",
     "text": [
      "232792560 \n",
      "\n",
      "CPU times: user 21.7 s, sys: 39.4 ms, total: 21.8 s\n",
      "Wall time: 21.8 s\n"
     ]
    }
   ],
   "source": [
    "%%time\n",
    "def pe_5():\n",
    "\n",
    "    num = 2520\n",
    "    while True:\n",
    "        flag = 0\n",
    "        for j in range(2, 21):\n",
    "            if num%j != 0: flag = 1; break\n",
    "        if flag==0: \n",
    "            print(num, \"\\n\")\n",
    "            break\n",
    "        num += 1\n",
    "        \n",
    "pe_5()"
   ]
  },
  {
   "cell_type": "code",
   "execution_count": 8,
   "id": "05a3b639-a98f-4737-afd3-c6fc71e43e1f",
   "metadata": {},
   "outputs": [
    {
     "name": "stdout",
     "output_type": "stream",
     "text": [
      "232792560 \n",
      "\n",
      "CPU times: user 39 μs, sys: 0 ns, total: 39 μs\n",
      "Wall time: 42.9 μs\n"
     ]
    }
   ],
   "source": [
    "%%time\n",
    "def pe_5_faster():\n",
    "\n",
    "    num = 1\n",
    "    for i in range(2, 21):\n",
    "        if num%i != 0:\n",
    "            for j in range(2, 21):\n",
    "                if (num * j) % i == 0: num *= j; break\n",
    "    print(num, \"\\n\")\n",
    "\n",
    "pe_5_faster()"
   ]
  },
  {
   "cell_type": "markdown",
   "id": "3e0bc0f9-a8fc-453a-8fab-25202bac9439",
   "metadata": {},
   "source": [
    "## 6 - Sum Square Difference"
   ]
  },
  {
   "cell_type": "code",
   "execution_count": 9,
   "id": "86d91813-96b6-4013-bfa6-9091922e6cd9",
   "metadata": {},
   "outputs": [
    {
     "name": "stdout",
     "output_type": "stream",
     "text": [
      "25164150 \n",
      "\n",
      "CPU times: user 101 μs, sys: 1 μs, total: 102 μs\n",
      "Wall time: 95.1 μs\n"
     ]
    }
   ],
   "source": [
    "%%time\n",
    "def pe_6():\n",
    "    \n",
    "    sum_n=0; sum_squares=0\n",
    "    for i in range(1, 101):\n",
    "        sum_n += i\n",
    "        sum_squares += i**2\n",
    "    print(sum_n**2 - sum_squares, \"\\n\")\n",
    "    \n",
    "pe_6()"
   ]
  },
  {
   "cell_type": "markdown",
   "id": "e81bc098-6c82-4d94-b10d-39c3ca5a1209",
   "metadata": {},
   "source": [
    "## 7 - 10,001st Prime"
   ]
  },
  {
   "cell_type": "code",
   "execution_count": 10,
   "id": "e1d92a19-896d-43ae-82c2-1faef80cc712",
   "metadata": {},
   "outputs": [
    {
     "name": "stdout",
     "output_type": "stream",
     "text": [
      "104743 \n",
      "\n",
      "CPU times: user 254 ms, sys: 3.99 ms, total: 258 ms\n",
      "Wall time: 257 ms\n"
     ]
    }
   ],
   "source": [
    "%%time\n",
    "def pe_7():\n",
    "\n",
    "    primes=prime_array(10**6)\n",
    "    num = 1; i=3\n",
    "    while True:\n",
    "        if primes[i]: num += 1\n",
    "        if num == 10001: break\n",
    "        i+=1\n",
    "    print(i, \"\\n\")\n",
    "\n",
    "pe_7()"
   ]
  },
  {
   "cell_type": "markdown",
   "id": "5a76779f-4c24-4cc3-a5c6-b5a741680be3",
   "metadata": {},
   "source": [
    "## 8 - Largest Product in a Series"
   ]
  },
  {
   "cell_type": "code",
   "execution_count": 11,
   "id": "f366a588-370a-478d-9ddb-af69f1accf17",
   "metadata": {},
   "outputs": [
    {
     "name": "stdout",
     "output_type": "stream",
     "text": [
      "23514624000 \n",
      "\n",
      "CPU times: user 2.43 ms, sys: 1.08 ms, total: 3.51 ms\n",
      "Wall time: 3.42 ms\n"
     ]
    }
   ],
   "source": [
    "%%time\n",
    "def pe_8():\n",
    "    \n",
    "    path = \"./inputs/p08_1000digit.txt\"\n",
    "    with open(path, 'r') as file:\n",
    "        num = file.readline()\n",
    "    file.close()\n",
    "    array = []\n",
    "    for i in range(0, len(num)):\n",
    "        array.append(int(num[i]))\n",
    "    max_product = 0\n",
    "    for i in range(0, len(num)-13):\n",
    "        product = np.prod(array[i:i+13])\n",
    "        if product > max_product:\n",
    "            max_product = product\n",
    "    print(max_product, \"\\n\")\n",
    "    \n",
    "pe_8()"
   ]
  },
  {
   "cell_type": "markdown",
   "id": "dd6988c8-27b3-4412-b19e-400c7b182464",
   "metadata": {},
   "source": [
    "## 9 - Special Pythagorean Triplet"
   ]
  },
  {
   "cell_type": "code",
   "execution_count": 12,
   "id": "7f8baa81-3032-4da5-a976-8585e27d44d2",
   "metadata": {},
   "outputs": [
    {
     "name": "stdout",
     "output_type": "stream",
     "text": [
      "31875000 \n",
      "\n",
      "CPU times: user 49.3 ms, sys: 0 ns, total: 49.3 ms\n",
      "Wall time: 49 ms\n"
     ]
    }
   ],
   "source": [
    "%%time\n",
    "def pe_9():\n",
    "\n",
    "    for i in range(1, 1000):\n",
    "        for j in range(i, 1000):\n",
    "            if (i**2) + (j**2) == (1000-i-j)**2:\n",
    "                print(i*j*(1000-i-j), \"\\n\")\n",
    "\n",
    "pe_9()"
   ]
  },
  {
   "cell_type": "markdown",
   "id": "6c3712ce-63aa-4359-b8ea-798dadb50ccb",
   "metadata": {},
   "source": [
    "## 10 - Summation of Primes"
   ]
  },
  {
   "cell_type": "code",
   "execution_count": 13,
   "id": "96c6a06f-5dd1-49e6-8ff2-bdc5a70803ae",
   "metadata": {},
   "outputs": [],
   "source": [
    "def is_prime(num):\n",
    "    for i in range(2, int(np.floor(np.sqrt(num)))+1):\n",
    "        if num%i == 0: return False\n",
    "    return True"
   ]
  },
  {
   "cell_type": "code",
   "execution_count": 14,
   "id": "8bf98d93-1953-4caa-b78e-b21a27d55093",
   "metadata": {},
   "outputs": [
    {
     "name": "stdout",
     "output_type": "stream",
     "text": [
      "142913828922 \n",
      "\n",
      "CPU times: user 5.21 s, sys: 48 ms, total: 5.26 s\n",
      "Wall time: 5.26 s\n"
     ]
    }
   ],
   "source": [
    "%%time\n",
    "def pe_10():\n",
    "    \n",
    "    total = 10\n",
    "    for i in range(7, 2000000, 2):\n",
    "        if is_prime(i): total += i\n",
    "    print(total, \"\\n\")\n",
    "\n",
    "pe_10()"
   ]
  },
  {
   "cell_type": "code",
   "execution_count": 15,
   "id": "5ee95e11-697e-47e1-afcb-e476867a0824",
   "metadata": {},
   "outputs": [
    {
     "name": "stdout",
     "output_type": "stream",
     "text": [
      "142913828922 \n",
      "\n",
      "CPU times: user 554 ms, sys: 8.01 ms, total: 562 ms\n",
      "Wall time: 561 ms\n"
     ]
    }
   ],
   "source": [
    "%%time\n",
    "def pe_10_faster():\n",
    "\n",
    "    primes = prime_array(2000000); total = 10\n",
    "    for i in range(7, 2000000, 2):\n",
    "        if primes[i]: total += i\n",
    "    print(total, \"\\n\")\n",
    "\n",
    "pe_10_faster()    "
   ]
  }
 ],
 "metadata": {
  "kernelspec": {
   "display_name": "Python 3 (ipykernel)",
   "language": "python",
   "name": "python3"
  },
  "language_info": {
   "codemirror_mode": {
    "name": "ipython",
    "version": 3
   },
   "file_extension": ".py",
   "mimetype": "text/x-python",
   "name": "python",
   "nbconvert_exporter": "python",
   "pygments_lexer": "ipython3",
   "version": "3.12.8"
  }
 },
 "nbformat": 4,
 "nbformat_minor": 5
}
